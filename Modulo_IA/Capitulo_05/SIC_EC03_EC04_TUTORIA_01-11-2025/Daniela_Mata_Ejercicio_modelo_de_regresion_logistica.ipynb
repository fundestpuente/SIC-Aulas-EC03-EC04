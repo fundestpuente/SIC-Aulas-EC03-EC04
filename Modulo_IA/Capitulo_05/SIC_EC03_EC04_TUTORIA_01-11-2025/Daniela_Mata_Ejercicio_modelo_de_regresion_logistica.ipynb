{
 "cells": [
  {
   "cell_type": "code",
   "execution_count": 94,
   "id": "8a47b71e",
   "metadata": {},
   "outputs": [
    {
     "name": "stdout",
     "output_type": "stream",
     "text": [
      "========================EJERCICIO=================================\n",
      "Breast Cancer Wisconsin (Diagnóstico)\n",
      "\n",
      "Descripción: Contiene características calculadas a partir de una imagen digitalizada de un aspirado con aguja fina de una masa mamaria.\n",
      "Clase a Predecir: El objetivo es predecir si el tumor es Maligno (M) o Benigno (B).\n",
      "Es un problema clásico de clasificación binaria.URL: https://raw.githubusercontent.com/datasets/breast-cancer-wisconsin/master/data/data.csv\n"
     ]
    }
   ],
   "source": [
    "# Daniela Mata Camacho\n",
    "# Ejercicio: 01-11-2025\n",
    "\n",
    "print(\"========================EJERCICIO=================================\")\n",
    "\n",
    "print(\"Breast Cancer Wisconsin (Diagnóstico)\")\n",
    "print(\"\\nDescripción: Contiene características calculadas a partir de una imagen digitalizada de un aspirado con aguja fina de una masa mamaria.\\nClase a Predecir: El objetivo es predecir si el tumor es Maligno (M) o Benigno (B).\\nEs un problema clásico de clasificación binaria.URL: https://raw.githubusercontent.com/datasets/breast-cancer-wisconsin/master/data/data.csv\")\n"
   ]
  },
  {
   "cell_type": "code",
   "execution_count": null,
   "id": "249b1766",
   "metadata": {},
   "outputs": [],
   "source": [
    "# Importacion de las librerias a implementar\n",
    "\n",
    "import pandas as pd\n",
    "import numpy as np\n",
    "import matplotlib.pyplot as plt\n",
    "import seaborn as sns\n",
    "from sklearn.model_selection import train_test_split\n",
    "from sklearn.linear_model import LogisticRegression\n",
    "from sklearn.preprocessing import StandardScaler\n",
    "from sklearn.impute import SimpleImputer\n",
    "from sklearn.metrics import accuracy_score, confusion_matrix, classification_report, roc_auc_score\n",
    "from sklearn.datasets import load_breast_cancer\n"
   ]
  },
  {
   "cell_type": "code",
   "execution_count": 96,
   "id": "b6fc15da",
   "metadata": {},
   "outputs": [
    {
     "name": "stdout",
     "output_type": "stream",
     "text": [
      "======================Data Breast Cancer Wisconsin================\n",
      "   mean radius  mean texture  mean perimeter  mean area  mean smoothness  \\\n",
      "0        17.99         10.38          122.80     1001.0          0.11840   \n",
      "1        20.57         17.77          132.90     1326.0          0.08474   \n",
      "2        19.69         21.25          130.00     1203.0          0.10960   \n",
      "3        11.42         20.38           77.58      386.1          0.14250   \n",
      "4        20.29         14.34          135.10     1297.0          0.10030   \n",
      "\n",
      "   mean compactness  mean concavity  mean concave points  mean symmetry  \\\n",
      "0           0.27760          0.3001              0.14710         0.2419   \n",
      "1           0.07864          0.0869              0.07017         0.1812   \n",
      "2           0.15990          0.1974              0.12790         0.2069   \n",
      "3           0.28390          0.2414              0.10520         0.2597   \n",
      "4           0.13280          0.1980              0.10430         0.1809   \n",
      "\n",
      "   mean fractal dimension  ...  worst texture  worst perimeter  worst area  \\\n",
      "0                 0.07871  ...          17.33           184.60      2019.0   \n",
      "1                 0.05667  ...          23.41           158.80      1956.0   \n",
      "2                 0.05999  ...          25.53           152.50      1709.0   \n",
      "3                 0.09744  ...          26.50            98.87       567.7   \n",
      "4                 0.05883  ...          16.67           152.20      1575.0   \n",
      "\n",
      "   worst smoothness  worst compactness  worst concavity  worst concave points  \\\n",
      "0            0.1622             0.6656           0.7119                0.2654   \n",
      "1            0.1238             0.1866           0.2416                0.1860   \n",
      "2            0.1444             0.4245           0.4504                0.2430   \n",
      "3            0.2098             0.8663           0.6869                0.2575   \n",
      "4            0.1374             0.2050           0.4000                0.1625   \n",
      "\n",
      "   worst symmetry  worst fractal dimension  diagnosis  \n",
      "0          0.4601                  0.11890          0  \n",
      "1          0.2750                  0.08902          0  \n",
      "2          0.3613                  0.08758          0  \n",
      "3          0.6638                  0.17300          0  \n",
      "4          0.2364                  0.07678          0  \n",
      "\n",
      "[5 rows x 31 columns]\n"
     ]
    }
   ],
   "source": [
    "# Paso 1: Carga y exploracion de Datos\n",
    "\n",
    "# Para la clase diagnosis 0 = Maligno y 1 = Beningno\n",
    "data = load_breast_cancer()\n",
    "df = pd.DataFrame(data.data, columns=data.feature_names)\n",
    "df['diagnosis'] = data.target\n",
    "\n",
    "print(\"======================Data Breast Cancer Wisconsin================\")\n",
    "print(df.head())"
   ]
  },
  {
   "cell_type": "code",
   "execution_count": 97,
   "id": "27bf1ac0",
   "metadata": {},
   "outputs": [
    {
     "name": "stdout",
     "output_type": "stream",
     "text": [
      "===== VERIFICACION DE VALORES NULOS =====\n",
      "\n",
      "Total de Valores Nulos: 0\n",
      "\n",
      " Valores Nulos por Columna\n",
      "\n",
      "mean radius                0\n",
      "mean texture               0\n",
      "mean perimeter             0\n",
      "mean area                  0\n",
      "mean smoothness            0\n",
      "mean compactness           0\n",
      "mean concavity             0\n",
      "mean concave points        0\n",
      "mean symmetry              0\n",
      "mean fractal dimension     0\n",
      "radius error               0\n",
      "texture error              0\n",
      "perimeter error            0\n",
      "area error                 0\n",
      "smoothness error           0\n",
      "compactness error          0\n",
      "concavity error            0\n",
      "concave points error       0\n",
      "symmetry error             0\n",
      "fractal dimension error    0\n",
      "worst radius               0\n",
      "worst texture              0\n",
      "worst perimeter            0\n",
      "worst area                 0\n",
      "worst smoothness           0\n",
      "worst compactness          0\n",
      "worst concavity            0\n",
      "worst concave points       0\n",
      "worst symmetry             0\n",
      "worst fractal dimension    0\n",
      "diagnosis                  0\n",
      "dtype: int64\n"
     ]
    }
   ],
   "source": [
    "# Paso 2: Verificacion de Datos Nulos\n",
    "\n",
    "print(\"===== VERIFICACION DE VALORES NULOS =====\")\n",
    "\n",
    "print(f\"\\nTotal de Valores Nulos: {df.isnull().sum().sum()}\")\n",
    "print(\"\\n Valores Nulos por Columna\\n\")\n",
    "print(df.isnull().sum())\n",
    "\n",
    "# En este caso, no se hallaron valores nulos dentro del CSV. por lo que no era necesario continuar con el siguiente paso\n",
    "# de imputacion de datos.\n"
   ]
  },
  {
   "cell_type": "code",
   "execution_count": 98,
   "id": "524f670d",
   "metadata": {},
   "outputs": [
    {
     "name": "stdout",
     "output_type": "stream",
     "text": [
      "\n",
      "===== CLASIFICACION BINARIA =====\n",
      "Distribucion de la variable objetivo: \n",
      "diagnosis\n",
      "1    357\n",
      "0    212\n",
      "Name: count, dtype: int64\n",
      "Proporcion de Clases diagnosis\n",
      "1    0.627417\n",
      "0    0.372583\n",
      "Name: proportion, dtype: float64\n"
     ]
    }
   ],
   "source": [
    "# Paso 3: Preprocesamiento de Datos / Clasificacion Binaria\n",
    "\n",
    "print(\"\\n===== CLASIFICACION BINARIA =====\")\n",
    "\n",
    "# variable 'diagnosis'\n",
    "\n",
    "print(\"Distribucion de la variable objetivo: \")\n",
    "print(df['diagnosis'].value_counts())\n",
    "print(f\"Proporcion de Clases {df['diagnosis'].value_counts(normalize=True)}\")\n"
   ]
  },
  {
   "cell_type": "code",
   "execution_count": 99,
   "id": "19958824",
   "metadata": {},
   "outputs": [
    {
     "name": "stdout",
     "output_type": "stream",
     "text": [
      "===== PREPARACION DE VARIABLES X / Y ======\n",
      "Dimesiones de la variable 'x' = (569, 30)\n",
      "Dimesiones de la variable 'y' = (569,)\n"
     ]
    }
   ],
   "source": [
    "# Paso 4: Preparacion de Variables X / Y\n",
    "\n",
    "print(\"===== PREPARACION DE VARIABLES X / Y ======\")\n",
    "\n",
    "# X = Todas las caracteristicas y Y = Variable Dependiente (Diagnosis)\n",
    "\n",
    "features = [col for col in df if col != 'diagnosis']\n",
    "x = df[features]\n",
    "y = df['diagnosis']\n",
    "\n",
    "print(f\"Dimesiones de la variable 'x' = {x.shape}\")\n",
    "print(f\"Dimesiones de la variable 'y' = {y.shape}\")"
   ]
  },
  {
   "cell_type": "code",
   "execution_count": 100,
   "id": "bfe09886",
   "metadata": {},
   "outputs": [
    {
     "name": "stdout",
     "output_type": "stream",
     "text": [
      "===== SEPARACION TEST / TRAIN ======\n",
      "\n",
      "-Entrenamiento: 426 muestras (74.9%)\n",
      "\n",
      "-Prueba: (143, 30) muestras (25.1%)\n"
     ]
    }
   ],
   "source": [
    "# Paso 5: Separacion de Variables Test y Train\n",
    "\n",
    "print(\"===== SEPARACION TEST / TRAIN ======\")\n",
    "\n",
    "x_train, x_test, y_train, y_test = train_test_split(\n",
    "    x ,\n",
    "    y,\n",
    "    test_size=0.25,\n",
    "    random_state=42,\n",
    "    stratify=y\n",
    ")\n",
    "\n",
    "print(f\"\\n-Entrenamiento: {x_train.shape[0]} muestras ({(x_train.shape[0]/len(x))*100:.1f}%)\")\n",
    "print(f\"\\n-Prueba: {x_test.shape} muestras ({(x_test.shape[0]/len(x))*100:.1f}%)\")\n"
   ]
  },
  {
   "cell_type": "code",
   "execution_count": 101,
   "id": "51729907",
   "metadata": {},
   "outputs": [
    {
     "name": "stdout",
     "output_type": "stream",
     "text": [
      "===== ESCALAMIENTO DE DATOS =====\n",
      "\n",
      "ESTADISTICAS: \n",
      "Media: [-4.68430719e-15  3.92226679e-16 -2.25693225e-15]\n",
      "Desviacion Estandar: [1. 1. 1.]\n"
     ]
    }
   ],
   "source": [
    "# Paso 6: Escalamaiento de Datos\n",
    "\n",
    "print(\"===== ESCALAMIENTO DE DATOS =====\")\n",
    "\n",
    "scaler = StandardScaler()\n",
    "x_train_scaled = scaler.fit_transform(x_train)\n",
    "x_test_scaled = scaler.transform(x_test)\n",
    "\n",
    "# Calculo de algunas estadisticas despues del escalameinto\n",
    "\n",
    "print(\"\\nESTADISTICAS: \")\n",
    "print(f\"Media: {np.mean(x_train_scaled, axis= 0)[:3]}\")\n",
    "print(f\"Desviacion Estandar: {np.std(x_train_scaled, axis=0)[:3]}\")\n",
    "\n",
    "\n"
   ]
  },
  {
   "cell_type": "code",
   "execution_count": 102,
   "id": "8566b013",
   "metadata": {},
   "outputs": [
    {
     "name": "stdout",
     "output_type": "stream",
     "text": [
      "===== ENTRENAMIENTO DEL MODELO =====\n",
      "Coeficiente: (1, 30)\n",
      "Intercepto: [0.22877022]\n"
     ]
    }
   ],
   "source": [
    "# Paso 7: Entrenamiento del Modelo \n",
    "\n",
    "print(\"===== ENTRENAMIENTO DEL MODELO =====\")\n",
    "logreg = LogisticRegression(\n",
    "    solver='liblinear',\n",
    "    random_state=42,\n",
    "    max_iter=1000\n",
    ")\n",
    "\n",
    "logreg.fit(x_train_scaled, y_train)\n",
    "\n",
    "print(f\"Coeficiente: {logreg.coef_.shape}\")\n",
    "print(f\"Intercepto: {logreg.intercept_}\")\n"
   ]
  },
  {
   "cell_type": "code",
   "execution_count": null,
   "id": "bd33cab6",
   "metadata": {},
   "outputs": [
    {
     "name": "stdout",
     "output_type": "stream",
     "text": [
      "===== EVALUACION MODELO =====\n",
      "METRICAS BASICAS\n",
      "\n",
      "-Exactitud: 0.9860\n",
      "\n",
      "-Matriz de Confusion:\n",
      "[[52  1]\n",
      " [ 1 89]]\n"
     ]
    },
    {
     "data": {
      "image/png": "[encoded data removed]",
      "text/plain": [
       "<Figure size 800x600 with 2 Axes>"
      ]
     },
     "metadata": {},
     "output_type": "display_data"
    },
    {
     "name": "stdout",
     "output_type": "stream",
     "text": [
      "===== REPORTE DE CLASIFICACION =====\n",
      "              precision    recall  f1-score   support\n",
      "\n",
      "     Maligno       0.98      0.98      0.98        53\n",
      "     Benigno       0.99      0.99      0.99        90\n",
      "\n",
      "    accuracy                           0.99       143\n",
      "   macro avg       0.99      0.99      0.99       143\n",
      "weighted avg       0.99      0.99      0.99       143\n",
      "\n",
      "\n",
      "AUC = 0.9977\n"
     ]
    }
   ],
   "source": [
    "# Paso 8: Prediccion y Evaluacion del Modelo.\n",
    "\n",
    "print(\"===== EVALUACION MODELO =====\")\n",
    "\n",
    "y_pred = logreg.predict(x_test_scaled)\n",
    "y_proba = logreg.predict_proba(x_test_scaled)[:, 1] # Probabilidad para la clase Benigno\n",
    "\n",
    "# Metricas\n",
    "\n",
    "print(\"METRICAS BASICAS\")\n",
    "accuracy = accuracy_score(y_test, y_pred)\n",
    "cm = confusion_matrix(y_test, y_pred)\n",
    "\n",
    "print(f\"\\n-Exactitud: {accuracy:.4f}\")\n",
    "print(\"\\n-Matriz de Confusion:\")\n",
    "print(cm)\n",
    "\n",
    "# Visualizacion de la Matriz de Confusion en Grafico\n",
    "\n",
    "plt.figure(figsize=(8, 6))\n",
    "sns.heatmap(cm, annot=True, fmt='d', cmap='Blues', \n",
    "            xticklabels=['Maligno (0)', 'Benigno (1)'], \n",
    "            yticklabels=['Maligno (0)', 'Benigno (1)'])\n",
    "plt.title('Matriz de Confusion de Regresion Logistica')\n",
    "plt.ylabel('Valor Real')\n",
    "plt.xlabel('Prediccion')\n",
    "plt.show()\n",
    "\n",
    "# Reporte de Clasificacion\n",
    "\n",
    "print(\"===== REPORTE DE CLASIFICACION =====\")\n",
    "print(classification_report(y_test, y_pred, target_names=['Maligno', 'Benigno']))\n",
    "\n",
    "# Calculo del auc\n",
    "auc = roc_auc_score(y_test, y_proba)\n",
    "print(f\"\\nAUC = {auc:.4f}\")\n"
   ]
  },
  {
   "cell_type": "code",
   "execution_count": null,
   "id": "f9d77d20",
   "metadata": {},
   "outputs": [
    {
     "data": {
      "text/plain": [
       "'\\nDistribucion de las clases: Hay un desbalance entre los datos de ambas clases,\\n(Un 62.7% de tumores benignos para un 37.3% de tumores malignos) sin embargo esto\\nno afecta de forma significativa el modelo ya que se considera normal ese desbalance.\\n\\nMatriz de Confusion: En la grafica se puede observar como en la correlacion se detecto\\nun falso negativo en tumores malignos \\n'"
      ]
     },
     "execution_count": 104,
     "metadata": {},
     "output_type": "execute_result"
    }
   ],
   "source": [
    "# Opte por utilizar este modelo, ya que fue uno de los que mejor comprendi en clases y se especializa en la \n",
    "# clasificacion entre variables con caracteristicas mutuamente excluyentes (clasificacion binaria). Dado lo\n",
    "# requerido en el ejercicio, lo considere una buena opcion para crear un modelo que otorgara una predccion optima.\n",
    "\n",
    "\"\"\"\n",
    "Distribucion de las clases: Hay un desbalance entre los datos de ambas clases,\n",
    "(Un 62.7% de tumores benignos para un 37.3% de tumores malignos) sin embargo esto\n",
    "no afecta de forma significativa el modelo ya que se considera normal ese desbalance.\n",
    "\n",
    "Matriz de Confusion: En la grafica se puede observar como en la correlacion se detecto\n",
    "1 falso negativo frente a 52 en tumores malignos y 1 falso positivo frente a 89 tumores \n",
    "benignos.\n",
    "\n",
    "Para la prediccion de tumores malignos, el 98% efectivamente lo eran. Y en el caso de los\n",
    "tumores benignos, logro detectar el 99% de los tumores de forma efectiva.\n",
    "\n",
    "AUC = El modelo tiene un total de 99.77% lo que indica que el modelo es bueno clasificando \n",
    "ambas clases de tumores, lo que puede dar buenos indicios o usarse como un apoyo para el\n",
    "especialista en la deteccion de un tumor maligno.\n",
    "\"\"\""
   ]
  }
 ],
 "metadata": {
  "kernelspec": {
   "display_name": "Python 3",
   "language": "python",
   "name": "python3"
  },
  "language_info": {
   "codemirror_mode": {
    "name": "ipython",
    "version": 3
   },
   "file_extension": ".py",
   "mimetype": "text/x-python",
   "name": "python",
   "nbconvert_exporter": "python",
   "pygments_lexer": "ipython3",
   "version": "3.13.7"
  }
 },
 "nbformat": 4,
 "nbformat_minor": 5
}
