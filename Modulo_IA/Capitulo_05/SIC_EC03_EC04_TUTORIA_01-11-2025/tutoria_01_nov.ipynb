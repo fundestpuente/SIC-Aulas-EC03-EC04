{
 "cells": [
  {
   "cell_type": "code",
   "execution_count": 2,
   "id": "8a146ec4",
   "metadata": {},
   "outputs": [],
   "source": [
    "import numpy as np\n",
    "import seaborn as sns\n",
    "import matplotlib.pyplot as plt\n",
    "import pandas as pd\n",
    "from sklearn.model_selection import train_test_split\n",
    "from sklearn.linear_model import LogisticRegression\n",
    "from sklearn.naive_bayes import GaussianNB\n",
    "from sklearn.tree import DecisionTreeClassifier\n",
    "from sklearn.neighbors import KNeighborsClassifier\n",
    "from sklearn.preprocessing import StandardScaler\n",
    "from sklearn.metrics import accuracy_score, confusion_matrix"
   ]
  },
  {
   "cell_type": "code",
   "execution_count": null,
   "id": "09330959",
   "metadata": {},
   "outputs": [],
   "source": [
    "import requests\n",
    "from pathlib import Path\n",
    "url = \"https://raw.githubusercontent.com/datasets/breast-cancer-wisconsin/master/data/data.csv\"\n",
    "out_path = Path(\"data.csv\")\n",
    "headers = {\"User-Agent\": \"notebook-downloader/1.0\"}\n",
    "try:\n",
    "    with requests.get(url, headers=headers, stream=True, timeout=15) as r:\n",
    "        r.raise_for_status()\n",
    "        with out_path.open(\"wb\") as f:\n",
    "            for chunk in r.iter_content(chunk_size=8192):\n",
    "                if chunk:\n",
    "                    f.write(chunk)\n",
    "    print(f\"Descargado a: {out_path.resolve()}\")\n",
    "    import pandas as pd\n",
    "    df = pd.read_csv(out_path)\n",
    "    display(df.head())\n",
    "    print(\"shape:\", df.shape)\n",
    "except Exception as e:\n",
    "    print(\"Error al descargar el archivo:\", e)"
   ]
  }
 ],
 "metadata": {
  "kernelspec": {
   "display_name": "py311",
   "language": "python",
   "name": "python3"
  },
  "language_info": {
   "codemirror_mode": {
    "name": "ipython",
    "version": 3
   },
   "file_extension": ".py",
   "mimetype": "text/x-python",
   "name": "python",
   "nbconvert_exporter": "python",
   "pygments_lexer": "ipython3",
   "version": "3.11.13"
  }
 },
 "nbformat": 4,
 "nbformat_minor": 5
}
