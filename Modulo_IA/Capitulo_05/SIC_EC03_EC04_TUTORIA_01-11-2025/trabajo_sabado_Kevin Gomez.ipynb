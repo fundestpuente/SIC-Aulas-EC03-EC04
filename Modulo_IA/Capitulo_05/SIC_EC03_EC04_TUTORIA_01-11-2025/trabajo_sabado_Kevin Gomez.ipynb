{
 "cells": [
  {
   "cell_type": "code",
   "execution_count": 2,
   "id": "5df616d5",
   "metadata": {},
   "outputs": [
    {
     "name": "stdout",
     "output_type": "stream",
     "text": [
      "\n",
      "Valores nulos en X: 0\n",
      "Valores nulos en y: 0\n"
     ]
    }
   ],
   "source": [
    "import pandas as pd\n",
    "import numpy as np\n",
    "import seaborn as sns\n",
    "import matplotlib.pyplot as plt\n",
    "from sklearn.model_selection import train_test_split\n",
    "from sklearn.preprocessing import StandardScaler\n",
    "from sklearn.neighbors import KNeighborsClassifier\n",
    "from sklearn.metrics import accuracy_score, classification_report, roc_auc_score, confusion_matrix\n",
    "\n",
    "# CARGA DEL DATASET DEL VINO\n",
    "SEED = 42\n",
    "np.random.seed(SEED)\n",
    "\n",
    "url_vino = \"https://archive.ics.uci.edu/ml/machine-learning-databases/wine-quality/winequality-red.csv\"\n",
    "\n",
    "columnas = ['acidez fija','acidez volátil','ácido cítrico','azúcar residual',\n",
    "            'cloruros','dióxido de azufre libre','dióxido de azufre total',\n",
    "            'densidad','pH','sulfatos','alcohol','calidad']\n",
    "df_vino = pd.read_csv(url_vino, sep=';', names=columnas, header=0)\n",
    "\n",
    "x = df_vino.drop('calidad', axis=1)\n",
    "y = df_vino['calidad']\n",
    "\n",
    "# Verificación de datos nulos\n",
    "print(f'\\nValores nulos en X: {np.isnan(x).sum().sum()}')\n",
    "print(f'Valores nulos en y: {np.isnan(y).sum()}')"
   ]
  },
  {
   "cell_type": "code",
   "execution_count": 3,
   "id": "ee9962df",
   "metadata": {},
   "outputs": [
    {
     "name": "stdout",
     "output_type": "stream",
     "text": [
      "\n",
      "Distribución de clases (%):\n",
      "calidad\n",
      "3     0.63\n",
      "4     3.31\n",
      "5    42.59\n",
      "6    39.90\n",
      "7    12.45\n",
      "8     1.13\n",
      "Name: proportion, dtype: float64\n",
      "El dataset esta desbalanceado porque las clases 5,6 abarcan el 80% de los datos\n"
     ]
    }
   ],
   "source": [
    "# Verificar si el dataset de vino está desbalanceado\n",
    "# Porcentaje de cada clase\n",
    "print(\"\\nDistribución de clases (%):\")\n",
    "print((df_vino['calidad'].value_counts(normalize=True).sort_index() * 100).round(2))\n",
    "print(\"El dataset esta desbalanceado porque las clases 5,6 abarcan el 80% de los datos\")"
   ]
  },
  {
   "cell_type": "code",
   "execution_count": 4,
   "id": "727ad963",
   "metadata": {},
   "outputs": [
    {
     "name": "stdout",
     "output_type": "stream",
     "text": [
      "\n",
      "Datos divididos correctamente\n",
      "Entrenamiento: 1119 muestras\n",
      "Prueba: 480 muestras\n"
     ]
    }
   ],
   "source": [
    "# División de datos: entrenamiento y prueba\n",
    "x_train, x_test, y_train, y_test = train_test_split(\n",
    "    x,\n",
    "    y,\n",
    "    test_size=0.3,\n",
    "    random_state=42,\n",
    "    stratify=y\n",
    ")\n",
    "print(\"\\nDatos divididos correctamente\")\n",
    "print(f\"Entrenamiento: {x_train.shape[0]} muestras\")\n",
    "print(f\"Prueba: {x_test.shape[0]} muestras\")"
   ]
  },
  {
   "cell_type": "code",
   "execution_count": 5,
   "id": "a0cd6419",
   "metadata": {},
   "outputs": [],
   "source": [
    "# Escalamiento o estandarización\n",
    "scaler = StandardScaler()\n",
    "x_train_scaled = scaler.fit_transform(x_train)\n",
    "x_test_scaled = scaler.transform(x_test)"
   ]
  },
  {
   "cell_type": "code",
   "execution_count": 6,
   "id": "2e90a6f6",
   "metadata": {},
   "outputs": [
    {
     "name": "stdout",
     "output_type": "stream",
     "text": [
      "\n",
      "Modelo KNN creado y entrenado\n"
     ]
    }
   ],
   "source": [
    "# Creación y entrenamiento del modelo KNN\n",
    "modelo_knn = KNeighborsClassifier(n_neighbors=5)\n",
    "modelo_knn.fit(x_train_scaled, y_train)\n",
    "print(\"\\nModelo KNN creado y entrenado\")\n",
    "\n",
    "# Predicciones\n",
    "y_pred = modelo_knn.predict(x_test_scaled)\n",
    "y_pred_proba = modelo_knn.predict_proba(x_test_scaled)"
   ]
  },
  {
   "cell_type": "code",
   "execution_count": 7,
   "id": "7dac6e7b",
   "metadata": {},
   "outputs": [
    {
     "name": "stdout",
     "output_type": "stream",
     "text": [
      "\n",
      "Precisión global: 0.5854 (58.54%)\n",
      "\n",
      "REPORTE DE CLASIFICACIÓN\n",
      "              precision    recall  f1-score   support\n",
      "\n",
      "           3       0.00      0.00      0.00         3\n",
      "           4       0.00      0.00      0.00        16\n",
      "           5       0.64      0.71      0.67       204\n",
      "           6       0.55      0.59      0.57       192\n",
      "           7       0.50      0.38      0.43        60\n",
      "           8       0.00      0.00      0.00         5\n",
      "\n",
      "    accuracy                           0.59       480\n",
      "   macro avg       0.28      0.28      0.28       480\n",
      "weighted avg       0.55      0.59      0.57       480\n",
      "\n"
     ]
    },
    {
     "name": "stderr",
     "output_type": "stream",
     "text": [
      "c:\\Users\\kevin\\anaconda3\\Lib\\site-packages\\sklearn\\metrics\\_classification.py:1509: UndefinedMetricWarning: Precision is ill-defined and being set to 0.0 in labels with no predicted samples. Use `zero_division` parameter to control this behavior.\n",
      "  _warn_prf(average, modifier, f\"{metric.capitalize()} is\", len(result))\n",
      "c:\\Users\\kevin\\anaconda3\\Lib\\site-packages\\sklearn\\metrics\\_classification.py:1509: UndefinedMetricWarning: Precision is ill-defined and being set to 0.0 in labels with no predicted samples. Use `zero_division` parameter to control this behavior.\n",
      "  _warn_prf(average, modifier, f\"{metric.capitalize()} is\", len(result))\n",
      "c:\\Users\\kevin\\anaconda3\\Lib\\site-packages\\sklearn\\metrics\\_classification.py:1509: UndefinedMetricWarning: Precision is ill-defined and being set to 0.0 in labels with no predicted samples. Use `zero_division` parameter to control this behavior.\n",
      "  _warn_prf(average, modifier, f\"{metric.capitalize()} is\", len(result))\n"
     ]
    }
   ],
   "source": [
    "# Evaluación del modelo\n",
    "precision = accuracy_score(y_test, y_pred)\n",
    "print(f\"\\nPrecisión global: {precision:.4f} ({precision*100:.2f}%)\")\n",
    "\n",
    "print(\"\\nREPORTE DE CLASIFICACIÓN\")\n",
    "print(classification_report(y_test, y_pred))"
   ]
  },
  {
   "cell_type": "code",
   "execution_count": null,
   "id": "21c034a2",
   "metadata": {},
   "outputs": [
    {
     "name": "stdout",
     "output_type": "stream",
     "text": [
      "\n",
      "MATRIZ DE CONFUSIÓN\n",
      "[[  0   0   1   2   0   0]\n",
      " [  0   0  11   5   0   0]\n",
      " [  0   0 144  57   3   0]\n",
      " [  0   1  58 114  19   0]\n",
      " [  0   0  11  26  23   0]\n",
      " [  0   0   0   4   1   0]]\n"
     ]
    },
    {
     "data": {
      "image/png": "[encoded data removed]",
      "text/plain": [
       "<Figure size 800x600 with 2 Axes>"
      ]
     },
     "metadata": {},
     "output_type": "display_data"
    }
   ],
   "source": [
    "# Matriz de confusión\n",
    "print('\\nMATRIZ DE CONFUSIÓN')\n",
    "cm = confusion_matrix(y_test, y_pred)\n",
    "print(cm)\n",
    "\n",
    "plt.figure(figsize=(8,6))\n",
    "sns.heatmap(cm, annot=True, fmt='d', cmap='Blues',\n",
    "            xticklabels=sorted(y.unique()),\n",
    "            yticklabels=sorted(y.unique()))\n",
    "plt.title(\"Matriz de Confusión - Modelo KNN (Vino)\")\n",
    "plt.ylabel('Etiqueta Real (Calidad)')\n",
    "plt.xlabel('Etiqueta Predicha (Calidad)')\n",
    "plt.show()"
   ]
  },
  {
   "cell_type": "code",
   "execution_count": null,
   "id": "e1b970f9",
   "metadata": {},
   "outputs": [],
   "source": []
  }
 ],
 "metadata": {
  "kernelspec": {
   "display_name": "base",
   "language": "python",
   "name": "python3"
  },
  "language_info": {
   "codemirror_mode": {
    "name": "ipython",
    "version": 3
   },
   "file_extension": ".py",
   "mimetype": "text/x-python",
   "name": "python",
   "nbconvert_exporter": "python",
   "pygments_lexer": "ipython3",
   "version": "3.12.4"
  }
 },
 "nbformat": 4,
 "nbformat_minor": 5
}
