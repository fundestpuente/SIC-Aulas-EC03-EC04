{
 "cells": [
  {
   "cell_type": "code",
   "execution_count": null,
   "id": "fe213cfc",
   "metadata": {},
   "outputs": [
    {
     "name": "stdout",
     "output_type": "stream",
     "text": [
      "Multiplicacion de A x B:\n",
      " [[4 1 7]\n",
      " [1 2 4]\n",
      " [6 7 5]]\n",
      "Transpuesta de B:\n",
      " [[2 1 0]\n",
      " [1 0 2]\n",
      " [1 3 1]]\n",
      "Determinante de A: 7.999999999999998\n",
      "La inversa de A es:\n",
      " [[ 0.25  -0.5    0.25 ]\n",
      " [ 0.375  0.25  -0.125]\n",
      " [-0.375  0.75   0.125]]\n"
     ]
    }
   ],
   "source": [
    "#Ejercicio 4 actividad tutoria 18/10/2025\n",
    "import numpy as np\n",
    "\n",
    "#Matrices\n",
    "A = np.array([[1,2,0],[0,1,1],[3,0,2]])\n",
    "B = np.array([[2,1,1],[1,0,3],[0,2,1]])\n",
    "\n",
    "#1. Multiplicacion de matrices y transpuesta de B\n",
    "\n",
    "print(\"Multiplicacion de A x B:\\n\", np.dot(A,B))\n",
    "print(\"Transpuesta de B:\\n\", B.T)\n",
    "\n",
    "#2. Determinante de A y si exsite su inversa\n",
    "print(\"Determinante de A:\", np.linalg.det(A))\n",
    "if np.linalg.det(A) != 0:\n",
    "    print(\"La inversa de A es:\\n\", np.linalg.inv(A))\n",
    "else:\n",
    "    print(\"La matriz A no tiene inversa.\")"
   ]
  },
  {
   "cell_type": "code",
   "execution_count": 8,
   "id": "2a1cc0a3",
   "metadata": {},
   "outputs": [
    {
     "name": "stdout",
     "output_type": "stream",
     "text": [
      "Prodcuto interno u.v =  10\n",
      "La magnitud de u es: 3.74\n",
      "La magnitud de v es: 4.12\n",
      "El angulo entre el vector u y el vector v es: 49.59 grados\n"
     ]
    }
   ],
   "source": [
    "#Vectores\n",
    "\n",
    "u = np.array([1,-2,3])\n",
    "v = np.array([0,1,4])\n",
    "\n",
    "#1. Producto interno\n",
    "print(\"Prodcuto interno u.v = \", np.dot(u,v))\n",
    "\n",
    "#2. Magnitud y angulo entre vectores\n",
    "magnitud_u = np.linalg.norm(u)\n",
    "magnitud_v = np.linalg.norm(v)\n",
    "\n",
    "print(f\"La magnitud de u es: {(magnitud_u):.2f}\")\n",
    "print(f\"La magnitud de v es: {(magnitud_v):.2f}\")\n",
    "\n",
    "#Angulo entre vectores\n",
    "cos_alfa = np.dot(u,v)/(magnitud_u * magnitud_v)\n",
    "alfa = np.arccos(cos_alfa)\n",
    "print(f\"El angulo entre el vector u y el vector v es: {np.degrees(alfa):.2f} grados\")"
   ]
  },
  {
   "cell_type": "code",
   "execution_count": 22,
   "id": "0cc5915d",
   "metadata": {},
   "outputs": [
    {
     "name": "stdout",
     "output_type": "stream",
     "text": [
      "F(x) =  x**4 + 3*x**3 + 2*x - 5\n",
      "\n",
      "df/dx =  4*x**3 + 9*x**2 + 2\n",
      "d^2f/dx^2 =  6*x*(2*x + 3)\n",
      "\n",
      "Cuando x=2, df/dx = 70, d^2f/dx^2 = 84\n",
      "\n",
      "La función es cóncava hacia arriba\n"
     ]
    }
   ],
   "source": [
    "#Derivadas\n",
    "import sympy as sp\n",
    "\n",
    "#f(x) =x^4 - 3*x^3 + 2*x - 5\n",
    "\n",
    "#Primera y segunda derivada\n",
    "x = sp.symbols('x')\n",
    "f = x**4 + 3*x**3 + 2*x - 5\n",
    "\n",
    "df = sp.diff(f, x)\n",
    "print(\"F(x) = \", f)\n",
    "print(\"\\ndf/dx = \",df)\n",
    "\n",
    "d2f = sp.diff(f,x,2)\n",
    "print(\"d^2f/dx^2 = \", d2f)\n",
    "\n",
    "#Evaular en x=2 y comentar la concavidad\n",
    "x_value = 2\n",
    "df_2 = df.subs(x, x_value)\n",
    "d2f_2 = d2f.subs(x, x_value)\n",
    "print(f\"\\nCuando x={x_value}, df/dx = {df_2}, d^2f/dx^2 = {d2f_2}\\n\")\n",
    "\n",
    "#Concavidad (curvatura)\n",
    "\n",
    "if d2f_2 > 0:\n",
    "    print(\"La función es cóncava hacia arriba\")\n",
    "elif d2f_2 < 0:\n",
    "    print(\"La función es cóncava hacia abajo\")\n",
    "else:\n",
    "    print(\"Es un punto de inflexión\")"
   ]
  },
  {
   "cell_type": "code",
   "execution_count": null,
   "id": "dea869b6",
   "metadata": {},
   "outputs": [],
   "source": []
  }
 ],
 "metadata": {
  "kernelspec": {
   "display_name": "Python 3",
   "language": "python",
   "name": "python3"
  },
  "language_info": {
   "codemirror_mode": {
    "name": "ipython",
    "version": 3
   },
   "file_extension": ".py",
   "mimetype": "text/x-python",
   "name": "python",
   "nbconvert_exporter": "python",
   "pygments_lexer": "ipython3",
   "version": "3.13.2"
  }
 },
 "nbformat": 4,
 "nbformat_minor": 5
}
