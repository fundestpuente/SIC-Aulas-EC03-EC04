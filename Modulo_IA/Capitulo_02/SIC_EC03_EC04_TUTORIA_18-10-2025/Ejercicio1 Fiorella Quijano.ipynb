{
 "cells": [
  {
   "cell_type": "code",
   "execution_count": 12,
   "id": "997045cc",
   "metadata": {},
   "outputs": [
    {
     "name": "stdout",
     "output_type": "stream",
     "text": [
      "Suma de A y B:\n",
      " [[3 2]\n",
      " [4 6]]\n",
      "\n",
      "\n",
      "Resta de A y B:\n",
      " [[-1  2]\n",
      " [ 2  2]]\n",
      "\n",
      "\n",
      "Producto matricial de A y B:\n",
      " [[ 4  4]\n",
      " [10  8]]\n",
      "\n",
      "\n",
      "La transpuesta de A:\n",
      " [[1 3]\n",
      " [2 4]]\n",
      "\n",
      "\n",
      "Determinante de B: 4.0\n",
      "\n",
      "\n",
      "Inversa de B:\n",
      " [[ 0.5   0.  ]\n",
      " [-0.25  0.5 ]]\n"
     ]
    }
   ],
   "source": [
    "import numpy as np\n",
    "import math\n",
    "import sympy as sp\n",
    "\n",
    "#======================== EJERCICIO 1 ===========================\n",
    "\n",
    "#---------MATRICES Y OPERACIONES MATRICIALES-----------\n",
    "\n",
    "#Definimos las matrices\n",
    "A = np.array([[1,2],[3,4]])\n",
    "B = np.array([[2,0],[1,2]])\n",
    "\n",
    "# 1. Calcula A + B, A - B y el producto matricial A × B.\n",
    "\n",
    "    # A + B\n",
    "suma = A + B\n",
    "print(\"Suma de A y B:\\n\", suma)\n",
    "print(\"\\n\")\n",
    "\n",
    "    # A - B\n",
    "resta = A - B\n",
    "print(\"Resta de A y B:\\n\", resta)\n",
    "print(\"\\n\")\n",
    "\n",
    "    # A × B\n",
    "producto = np.dot(A, B)\n",
    "print(\"Producto matricial de A y B:\\n\", producto)\n",
    "print(\"\\n\")\n",
    "\n",
    "\n",
    "# 2. Calcula la traspuesta de A y la inversa de B (si existe).\n",
    "\n",
    "    # Transpuesta de A\n",
    "transpuesta_A = np.transpose(A)\n",
    "print(\"La transpuesta de A:\\n\", transpuesta_A)\n",
    "print(\"\\n\")\n",
    "\n",
    "    # Inversa de B\n",
    "\n",
    "#Determinante\n",
    "determinante_B= np.linalg.det(B)\n",
    "print(\"Determinante de B:\", determinante_B)\n",
    "print(\"\\n\")\n",
    "\n",
    "if determinante_B !=0:\n",
    "    inversa_B= np.linalg.inv(B)\n",
    "    print(\"Inversa de B:\\n\", inversa_B)\n",
    "else:\n",
    "    print(\"La matriz B no es invertible\")\n"
   ]
  },
  {
   "cell_type": "code",
   "execution_count": 11,
   "id": "93b90a44",
   "metadata": {},
   "outputs": [
    {
     "name": "stdout",
     "output_type": "stream",
     "text": [
      "Producto interno u.v: 1\n",
      "Magnitud de u: 2.23606797749979\n",
      "Magnitud de v: 3.1622776601683795\n"
     ]
    }
   ],
   "source": [
    "#---------VECTORES Y OPERACIONES CON VECTORES-----------\n",
    "\n",
    "# Definimos los vectores \n",
    "u = np.array([1, 2])\n",
    "v = np.array([3, -1])\n",
    "\n",
    "# 1. Calcula el producto interno u.v\n",
    "producto_interno = np.dot(u, v)\n",
    "print(\"Producto interno u.v:\", producto_interno)\n",
    "\n",
    "# 2.Calcula la magnitud de los vectores u y v\n",
    "magnitud_u = np.linalg.norm(u)\n",
    "print(\"Magnitud de u:\", magnitud_u)\n",
    "magnitud_v = np.linalg.norm(v)\n",
    "print(\"Magnitud de v:\", magnitud_v)\n"
   ]
  },
  {
   "cell_type": "code",
   "execution_count": 14,
   "id": "53ad1f34",
   "metadata": {},
   "outputs": [
    {
     "name": "stdout",
     "output_type": "stream",
     "text": [
      "Primera derivada f'(x): 3*x**2 + 4*x + 1\n",
      "Segunda derivada f''(x): 6*x + 4\n",
      "Evaluación de la primera derivada en x=1: 8\n",
      "Evaluación de la segunda derivada en x=1: 10\n"
     ]
    }
   ],
   "source": [
    "#---------DERIVADAS DE PRIMER Y SEGUNDO ORDEN-----------\n",
    "\n",
    "#Definimos la función f(x) = x**3 + 2*x**2 + x \n",
    "\n",
    "x = sp.symbols('x')\n",
    "funcion= x**3 + 2*x**2 + x \n",
    "\n",
    "# 1. Calcula la derivada primera y segunda de f(x)\n",
    "\n",
    "    # Primera derivada\n",
    "d1= sp.diff(funcion, x)\n",
    "print(\"Primera derivada f'(x):\", d1)\n",
    "\n",
    "    # Segunda derivada\n",
    "d2= sp.diff(d1, x)\n",
    "print(\"Segunda derivada f''(x):\", d2)\n",
    "\n",
    "\n",
    "# 2. Evalúa ambas derivadas en x = 1\n",
    "\n",
    "eval_d1= d1.subs(x, 1)\n",
    "print(\"Evaluación de la primera derivada en x=1:\", eval_d1)\n",
    "\n",
    "eval_d2= d2.subs(x, 1)\n",
    "print(\"Evaluación de la segunda derivada en x=1:\", eval_d2)\n",
    "\n"
   ]
  },
  {
   "cell_type": "code",
   "execution_count": null,
   "id": "6f306cd6",
   "metadata": {},
   "outputs": [],
   "source": []
  }
 ],
 "metadata": {
  "kernelspec": {
   "display_name": "base",
   "language": "python",
   "name": "python3"
  },
  "language_info": {
   "codemirror_mode": {
    "name": "ipython",
    "version": 3
   },
   "file_extension": ".py",
   "mimetype": "text/x-python",
   "name": "python",
   "nbconvert_exporter": "python",
   "pygments_lexer": "ipython3",
   "version": "3.13.5"
  }
 },
 "nbformat": 4,
 "nbformat_minor": 5
}
