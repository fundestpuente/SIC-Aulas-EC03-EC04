{
 "cells": [
  {
   "cell_type": "markdown",
   "id": "d23531eb",
   "metadata": {},
   "source": [
    "\"\"\"\n",
    "\n",
    "Ejercicio 5\n",
    "Matrices:\n",
    "A = [[1, 1], [2, 3]]\n",
    "B = [[0, 2], [1, 1]]\n",
    "\n",
    "Calcula A + B, A - B y A × B.\n",
    "Calcula la traspuesta de A y la inversa de B (si existe).\n",
    "Vectores:\n",
    "u = [2, 3]\n",
    "v = [1, -1]\n",
    "\n",
    "Calcula el producto interno u·v y determina ortogonalidad.\n",
    "Calcula magnitudes y ángulo entre u y v.\n",
    "Derivadas:\n",
    "σ(x) = 1 / (1 + exp(-x)) # Función sigmoide\n",
    "\n",
    "Calcula σ'(x) simbólicamente y simplifícala.\n",
    "Evalúa σ'(0) y σ'(1) y explica su interpretación. \"\"\""
   ]
  },
  {
   "cell_type": "code",
   "execution_count": null,
   "id": "0b0e2211",
   "metadata": {},
   "outputs": [
    {
     "name": "stdout",
     "output_type": "stream",
     "text": [
      "A + B =\n",
      " [[1 3]\n",
      " [3 4]]\n",
      "\n",
      "A - B =\n",
      " [[ 1 -1]\n",
      " [ 1  2]]\n",
      "\n",
      "A x B =\n",
      " [[1 3]\n",
      " [3 7]]\n",
      "\n",
      "Traspuesta de A =\n",
      " [[1 2]\n",
      " [1 3]]\n",
      "\n",
      "Determinante de B = -2.0\n",
      "\n",
      "Inversa de B =\n",
      " [[-0.5  1. ]\n",
      " [ 0.5  0. ]]\n"
     ]
    }
   ],
   "source": [
    "\n",
    "import numpy as np\n",
    "\n",
    "#Matrices:\n",
    "\n",
    "A = [[1, 1], [2, 3]]\n",
    "B = [[0, 2], [1, 1]]\n",
    "\n",
    "MA = np.array(A)\n",
    "MB = np.array(B)\n",
    "\n",
    "#Calcula A + B, A - B y A × B.\n",
    "\n",
    "suma = MA + MB\n",
    "resta = MA - MB\n",
    "multiplicacion = np.dot(MA, MB)\n",
    "\n",
    "print(\"A + B =\\n\", suma)\n",
    "print(\"\\nA - B =\\n\", resta)\n",
    "print(\"\\nA x B =\\n\", multiplicacion)\n",
    "\n",
    "#Calcula la traspuesta de A y la inversa de B (si existe).\n",
    "\n",
    "transpuesta_A = MA.T\n",
    "\n",
    "#Si B tiene inversa\n",
    "\n",
    "det_B = np.linalg.det(MB)\n",
    "\n",
    "if det_B != 0:\n",
    "    inversa_B = np.linalg.inv(MB)\n",
    "else:\n",
    "    inversa_B = None\n",
    "\n",
    "print(\"\\nTraspuesta de A =\\n\", transpuesta_A)\n",
    "print(\"\\nDeterminante de B =\", det_B)\n",
    "if inversa_B is not None:\n",
    "    print(\"\\nInversa de B =\\n\", inversa_B)\n",
    "else:\n",
    "    print(\"\\nB no tiene inversa (determinante = 0)\")\n"
   ]
  },
  {
   "cell_type": "code",
   "execution_count": null,
   "id": "dee8409c",
   "metadata": {},
   "outputs": [
    {
     "name": "stdout",
     "output_type": "stream",
     "text": [
      "Producto interno u·v = -1\n",
      "Los vectores no son ortogonales\n",
      "magnitudes de u = 3.605551275463989\n",
      "magnitude de v = 1.4142135623730951\n",
      "Ángulo entre u y v = 101.30993247402021 grados\n"
     ]
    }
   ],
   "source": [
    "#Vectores:\n",
    "\n",
    "import math\n",
    "\n",
    "u = [2, 3]\n",
    "v = [1, -1]\n",
    "\n",
    "#Calcula el producto interno u·v y determina ortogonalidad.\n",
    "\n",
    "#producto interno u·v\n",
    "produc_interno = u[0]*v[0] + u[1]*v[1]\n",
    "print(\"Producto interno u·v =\", produc_interno)\n",
    "\n",
    "#ortogonalidad\n",
    "if produc_interno == 0:\n",
    "    print(\"Los vectores son ortogonales\")\n",
    "else:\n",
    "    print(\"Los vectores no son ortogonales\")\n",
    "\n",
    "#Calcula magnitudes y ángulo entre u y v.\n",
    "\n",
    "#magnitudes ||u||= raiz(2^2 + 3^2)\n",
    "magnitud_u = math.sqrt(u[0]**2 + u[1]**2)\n",
    "magnitud_v = math.sqrt(v[0]**2 + v[1]**2)\n",
    "\n",
    "print(\"magnitudes de u =\", magnitud_u)\n",
    "print(\"magnitude de v =\", magnitud_v)\n",
    "\n",
    "# ángulo entre u y v\n",
    "cos_theta = produc_interno / (magnitud_u * magnitud_v)\n",
    "angulo = math.degrees(math.acos(cos_theta))\n",
    "\n",
    "print(\"Ángulo entre u y v =\", angulo, \"grados\")\n"
   ]
  },
  {
   "cell_type": "code",
   "execution_count": 3,
   "id": "1723157b",
   "metadata": {},
   "outputs": [
    {
     "name": "stdout",
     "output_type": "stream",
     "text": [
      "σ(x) = 1/(1 + exp(-x))\n",
      "σ'(x) = exp(-x)/(1 + exp(-x))**2\n",
      "σ'(x) simplificada = 1/(4*cosh(x/2)**2)\n",
      "σ'(0) = 0.250000000000000\n",
      "σ'(1) = 0.196611933241482\n"
     ]
    }
   ],
   "source": [
    "#Derivadas:\n",
    "#σ(x) = 1 / (1 + exp(-x)) # Función sigmoide\n",
    "\n",
    "import sympy as sp\n",
    "\n",
    "x = sp.Symbol('x')\n",
    "\n",
    "#Calcula σ'(x) simbólicamente y simplifícala.\n",
    "\n",
    "#función sigmoide σ(x)\n",
    "sigma = 1 / (1 + sp.exp(-x))\n",
    "\n",
    "# Derivar simbólicamente σ'(x)\n",
    "sigma_derivada = sp.diff(sigma, x)\n",
    "\n",
    "# Simplificada\n",
    "sigma_derivada_simplificada = sp.simplify(sigma_derivada)\n",
    "\n",
    "#Evalúa σ'(0) y σ'(1) y explica su interpretación.\n",
    "\n",
    "# Evaluar σ'(0) y σ'(1)\n",
    "valor_0 = sigma_derivada_simplificada.subs(x, 0).evalf()\n",
    "valor_1 = sigma_derivada_simplificada.subs(x, 1).evalf()\n",
    "\n",
    "print(\"σ(x) =\", sigma)\n",
    "print(\"σ'(x) =\", sigma_derivada)\n",
    "print(\"σ'(x) simplificada =\", sigma_derivada_simplificada)\n",
    "print(\"σ'(0) =\", valor_0)\n",
    "print(\"σ'(1) =\", valor_1)\n",
    "\n"
   ]
  }
 ],
 "metadata": {
  "kernelspec": {
   "display_name": "Python 3",
   "language": "python",
   "name": "python3"
  },
  "language_info": {
   "codemirror_mode": {
    "name": "ipython",
    "version": 3
   },
   "file_extension": ".py",
   "mimetype": "text/x-python",
   "name": "python",
   "nbconvert_exporter": "python",
   "pygments_lexer": "ipython3",
   "version": "3.11.5"
  }
 },
 "nbformat": 4,
 "nbformat_minor": 5
}
