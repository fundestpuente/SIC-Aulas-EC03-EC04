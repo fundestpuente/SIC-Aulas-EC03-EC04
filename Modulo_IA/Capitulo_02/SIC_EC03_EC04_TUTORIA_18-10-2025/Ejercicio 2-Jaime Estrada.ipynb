{
 "cells": [
  {
   "cell_type": "markdown",
   "metadata": {
    "id": "pJawBJw_3s8H"
   },
   "source": [
    "# ----------------------------------------------------------\n",
    "# EJERCICIO 2\n",
    "# ----------------------------------------------------------\n",
    "\"\"\"\n",
    "## Ejercicio 2\n",
    "\n",
    "**Matrices:**  \n",
    "A = [[1, 0, 2], [2, 1, 1], [3, 2, 0]]  \n",
    "B = [[0, 1, 1], [1, 2, 0], [2, 1, 3]]  \n",
    "\n",
    "1. Calcula A × B.  \n",
    "2. Calcula la traspuesta y determinante de A.\n",
    "\n",
    "**Vectores:**  \n",
    "u = [2, -1, 3]  \n",
    "v = [1, 4, -2]  \n",
    "\n",
    "1. Calcula el producto interno u·v y determina si son ortogonales.  \n",
    "2. Calcula el ángulo entre u y v.\n",
    "\n",
    "**Derivadas:**  \n",
    "g(x, y) = x**2 * y + sin(x*y)  \n",
    "\n",
    "1. Calcula las derivadas parciales ∂g/∂x y ∂g/∂y.  \n",
    "2. Evalúa en el punto (x=1, y=π/2).\n",
    "\"\"\"\n",
    "\n",
    "# Nombre del estudiante:\n",
    "# Nombre: Jaime Andrés Estrada"
   ]
  },
  {
   "cell_type": "code",
   "execution_count": 7,
   "metadata": {},
   "outputs": [
    {
     "name": "stdout",
     "output_type": "stream",
     "text": [
      "Matriz A: \n",
      " [[1 0 2]\n",
      " [2 1 1]\n",
      " [3 2 0]]\n",
      "\n",
      "====================================================================================================\n",
      "Matriz B: \n",
      " [[0 1 1]\n",
      " [1 2 0]\n",
      " [2 1 3]]\n",
      "\n",
      "====================================================================================================\n",
      "A x B = \n",
      " [[4 3 7]\n",
      " [3 5 5]\n",
      " [2 7 3]]\n",
      "\n",
      "Transpuesta de A: \n",
      " [[1 2 3]\n",
      " [0 1 2]\n",
      " [2 1 0]]\n",
      "Determinante de A: -0.00000000000000044409\n",
      "\n",
      "====================================================================================================\n",
      "Transpuesta de B: \n",
      " [[0 1 2]\n",
      " [1 2 1]\n",
      " [1 0 3]]\n",
      "Determinante de B: -6.0\n"
     ]
    }
   ],
   "source": [
    "# Matrices\n",
    "import numpy as np\n",
    "\n",
    "A = np.array([[1, 0, 2],\n",
    "              [2, 1, 1],\n",
    "              [3, 2, 0]])  \n",
    "\n",
    "B = np.array([[0, 1, 1],\n",
    "              [1, 2, 0],\n",
    "              [2, 1, 3]])\n",
    "\n",
    "print(\"Matriz A: \\n\", A)\n",
    "print(\"\\n\" + \"=\" * 100)\n",
    "print(\"Matriz B: \\n\", B)\n",
    "print(\"\\n\" + \"=\" * 100)\n",
    "\n",
    "# 1. Calculo AxB\n",
    "print(\"A x B = \\n\", np.dot(A, B))\n",
    "\n",
    "# 2. Calculo transpuesta y determinante\n",
    "print(\"\\nTranspuesta de A: \\n\", A.T)\n",
    "determinante_A = np.linalg.det(A)\n",
    "print(f\"Determinante de A: {determinante_A:.20f}\")\n",
    "print(\"\\n\" + \"=\" * 100)\n",
    "print(\"Transpuesta de B: \\n\", B.T)\n",
    "determinante_B = np.linalg.det(B)\n",
    "print(\"Determinante de B:\", determinante_B)"
   ]
  },
  {
   "cell_type": "code",
   "execution_count": 8,
   "metadata": {},
   "outputs": [
    {
     "name": "stdout",
     "output_type": "stream",
     "text": [
      "Producto interno: -8\n",
      "Los vectores no son ortogonales\n",
      "Ángulo entre u y v: 2.0562 radianes (117.81°)\n"
     ]
    }
   ],
   "source": [
    "# Vectores\n",
    "u = np.array([2, -1, 3])  \n",
    "v = np.array([1, 4, -2])  \n",
    "\n",
    "# 1. Calcula el producto interno u·v y determina si son ortogonales.\n",
    "producto_interno = np.dot(u, v)\n",
    "print(\"Producto interno:\", producto_interno)\n",
    "\n",
    "if producto_interno == 0:\n",
    "    print(\"Los vectores son ortogonales\")\n",
    "else:\n",
    "    print(\"Los vectores no son ortogonales\")\n",
    "\n",
    "# 2. Calcula el ángulo entre u y v.\n",
    "norma_u = np.linalg.norm(u)\n",
    "norma_v = np.linalg.norm(v)\n",
    "\n",
    "cos_theta = producto_interno / (norma_u * norma_v)\n",
    "\n",
    "# El valor debe estar en el rango [-1, 1] para evitar errores numéricos\n",
    "cos_theta = np.clip(cos_theta, -1, 1)\n",
    "\n",
    "angulo_radianes = np.arccos(cos_theta)\n",
    "angulo_grados = np.degrees(angulo_radianes)\n",
    "\n",
    "print(f\"Ángulo entre u y v: {angulo_radianes:.4f} radianes ({angulo_grados:.2f}°)\")"
   ]
  },
  {
   "cell_type": "code",
   "execution_count": 11,
   "metadata": {},
   "outputs": [
    {
     "name": "stdout",
     "output_type": "stream",
     "text": [
      "g(x, y) =  x**2*y + sin(x*y)\n",
      "dg/dx =  2*x*y + y*cos(x*y)\n",
      "dg/dy =  x**2 + x*cos(x*y)\n",
      "\n",
      "En el punto (x=1, y=π/2):\n",
      "dg/dx = 3.14159265358979\n",
      "dg/dy = 1.00000000000000\n"
     ]
    }
   ],
   "source": [
    "# Derivadas\n",
    "import sympy as sp\n",
    "\n",
    "# variables simbolcias\n",
    "x, y = sp.symbols('x y')\n",
    "\n",
    "# derivada parcial\n",
    "g = x**2 * y + sp.sin(x*y)\n",
    "\n",
    "# 1. Calcula las derivadas parciales ∂g/∂x y ∂g/∂y.  \n",
    "dg_dx = sp.diff(g, x)\n",
    "dg_dy = sp.diff(g, y)\n",
    "\n",
    "print(\"g(x, y) = \", g)\n",
    "print(\"dg/dx = \", dg_dx)\n",
    "print(\"dg/dy = \", dg_dy)\n",
    "\n",
    "#2. Evalúa en el punto (x=1, y=π/2).\n",
    "punto = {x: 1, y: sp.pi/2}\n",
    "dg_dx_val = dg_dx.evalf(subs=punto)\n",
    "dg_dy_val = dg_dy.evalf(subs=punto)\n",
    "\n",
    "print(f\"\\nEn el punto (x=1, y=π/2):\")\n",
    "print(\"dg/dx =\", dg_dx_val)\n",
    "print(\"dg/dy =\", dg_dy_val)"
   ]
  },
  {
   "cell_type": "code",
   "execution_count": null,
   "metadata": {},
   "outputs": [],
   "source": []
  }
 ],
 "metadata": {
  "colab": {
   "provenance": []
  },
  "kernelspec": {
   "display_name": "Python 3 (ipykernel)",
   "language": "python",
   "name": "python3"
  },
  "language_info": {
   "codemirror_mode": {
    "name": "ipython",
    "version": 3
   },
   "file_extension": ".py",
   "mimetype": "text/x-python",
   "name": "python",
   "nbconvert_exporter": "python",
   "pygments_lexer": "ipython3",
   "version": "3.13.5"
  }
 },
 "nbformat": 4,
 "nbformat_minor": 4
}
