"""

# ----------------------------------------------------------
# EJERCICIO 3
# ----------------------------------------------------------
"""
## Ejercicio 3

**Matrices:**  
A = [[2, 1], [0, 3]]  
B = [[1, 2], [3, 0]]  

1. Calcula A + B y A × B.  
2. Calcula la inversa de A y el determinante de B.

**Vectores:**  
u = [1, 3]  
v = [-1, 2]  

1. Calcula el producto interno u·v.  
2. Calcula la magnitud de cada vector.

**Derivadas:**  
h(x) = sin(2*x**2 + 3*x)  

1. Calcula la derivada h'(x) usando regla de la cadena.  
2. Evalúa h'(1) y h'(0).
"""

Realizado por Kevin Perez

"""

import sympy as sp
print("="*30)
print(" "*10 +"MATRICES")
print("="*30)

A = sp.Matrix([[2, 1], [0, 3]])
B = sp.Matrix([[1, 2], [3, 0]])

print("A = \n")
sp.pretty_print(A)
print("B = \n")
sp.pretty_print(B)

print(f"\n1. Operaciones con matrices:")
A_mas_B = A + B
print(f"A + B = \n")
sp.pretty_print(A_mas_B)

A_por_B = A * B
print(f"A × B = \n")
sp.pretty_print(A_por_B)  

print(f"\n2. Inversa de A y determinante de B:")
A_inv = A.inv()
det_B = B.det()
print(f"A⁻¹ =\n")
sp.pretty_print(A_inv)
print(f"\ndet(B) = {det_B}")


print("="*30)
print(" "*10 +"VECTORES")
print("="*30)

u = sp.Matrix([1, 3])
v = sp.Matrix([-1, 2])

print(f"u = ")  
sp.pretty_print(u.T)
print(f"v = ")
sp.pretty_print(v.T)

print(f"\n1. Producto interno:")
dot_product = u.dot(v)
print(f"u·v = {dot_product}")

print(f"\n2. Magnitudes:")
magnitude_u = u.norm()
magnitude_v = v.norm()
print(f"|u| = {magnitude_u}")
print(f"|v| = {magnitude_v}")

print("="*30)
print(" "*10 +"DERIVADAS")
print("="*30)

x = sp.symbols('x')
h = sp.sin(2*x**2 + 3*x)

print(f"h(x) = {h}")

dh_dx = sp.diff(h, x)

print(f"\n1. Derivada:")
print(f"h'(x) = {dh_dx}")

dh_dx_1 = dh_dx.subs(x, 1)
dh_dx_0 = dh_dx.subs(x, 0)

print(f"\n2. Evaluaciones:")
print(f"h'(1) = {float(dh_dx_1):.4f}")
print(f"h'(0) = {float(dh_dx_0):.4f}")
