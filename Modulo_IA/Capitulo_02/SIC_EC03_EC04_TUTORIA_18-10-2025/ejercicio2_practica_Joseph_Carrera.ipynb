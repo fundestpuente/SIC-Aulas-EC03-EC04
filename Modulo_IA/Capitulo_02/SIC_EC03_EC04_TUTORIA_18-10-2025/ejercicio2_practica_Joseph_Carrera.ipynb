{
 "cells": [
  {
   "cell_type": "code",
   "execution_count": null,
   "id": "d01e652e",
   "metadata": {},
   "outputs": [
    {
     "name": "stdout",
     "output_type": "stream",
     "text": [
      "A X B =\n",
      " [[4 3 7]\n",
      " [3 5 5]\n",
      " [2 7 3]]\n",
      "Transpuesta A =\n",
      " [[1 2 3]\n",
      " [0 1 2]\n",
      " [2 1 0]]\n",
      "Determinante de A = -4.440892098500646e-16\n"
     ]
    }
   ],
   "source": [
    "\"\"\"\n",
    "Ejercicio 2\n",
    "Realizado por: Joseph Carrera\n",
    "\"\"\"\n",
    "import numpy as np\n",
    "import sympy as sp\n",
    "# Matrices\n",
    "A = np.array([[1,0,2],[2,1,1],[3,2,0]])\n",
    "B = np.array([[0,1,1],[1,2,0],[2,1,3]])\n",
    "\n",
    "multiplicacion_matrices = np.dot(A,B)\n",
    "transpuesta_A = A.T\n",
    "determinante_A = np.linalg.det(A)\n",
    "\n",
    "print(\"A X B =\\n\", multiplicacion_matrices)\n",
    "print(\"Transpuesta A =\\n\", transpuesta_A)\n",
    "print(\"Determinante de A =\",determinante_A)"
   ]
  },
  {
   "cell_type": "code",
   "execution_count": null,
   "id": "65f4d9e0",
   "metadata": {},
   "outputs": [
    {
     "name": "stdout",
     "output_type": "stream",
     "text": [
      "Los vectores u=[ 2 -1  3] y v=[ 1  4 -2] no son ortoganales\n",
      "Entre los vectores u y v exiten 117.81°\n"
     ]
    }
   ],
   "source": [
    "#Vectores\n",
    "u = np.array([2,-1,3])\n",
    "v = np.array([1,4,-2])\n",
    "\n",
    "producto_escalar = np.dot(u,v)\n",
    "\n",
    "if producto_escalar == 0:\n",
    "    print(f\"Los vectores u={u} y v={v} son ortoganales\")\n",
    "else:\n",
    "    print(f\"Los vectores u={u} y v={v} no son ortoganales\")\n",
    "\n",
    "normal_u = np.linalg.norm(u)\n",
    "normal_v = np.linalg.norm(v)\n",
    "angulo_radianes = np.arccos(producto_escalar / (normal_u * normal_v))\n",
    "angulo_grados = np.degrees(angulo_radianes)\n",
    "\n",
    "print(f\"Entre los vectores u y v exiten {angulo_grados:.2f}°\")"
   ]
  },
  {
   "cell_type": "code",
   "execution_count": 6,
   "id": "8b79bef1",
   "metadata": {},
   "outputs": [
    {
     "name": "stdout",
     "output_type": "stream",
     "text": [
      "g(x,y) =  2*x*y + sin(x*y)\n",
      "ag/ax =  y*cos(x*y) + 2*y\n",
      "ag/ay =  x*cos(x*y) + 2*x\n",
      "\n",
      "punto = (1,pi/2)\n",
      "g(punto) =  1 + pi\n",
      "dg/dx(punto) =  pi\n",
      "dg/dy(punto) =  2\n"
     ]
    }
   ],
   "source": [
    "#Derivadas\n",
    "x,y = sp.symbols('x,y')\n",
    "g = x*2*y + sp.sin(x*y)\n",
    "\n",
    "dg_dx = sp.diff(g,x)\n",
    "dg_dy = sp.diff(g,y)\n",
    "\n",
    "print(\"g(x,y) = \",g)\n",
    "print(\"ag/ax = \", dg_dx)\n",
    "print(\"ag/ay = \", dg_dy)\n",
    "\n",
    "evluado_g = g.subs({x: 1, y: sp.pi/2})\n",
    "evaluado_dg_dx = dg_dx.subs({x: 1, y: sp.pi/2})\n",
    "evaluado_dg_dy = dg_dy.subs({x: 1, y: sp.pi/2})\n",
    "\n",
    "print(f\"\\npunto = (1,pi/2)\")\n",
    "print(\"g(punto) = \",evluado_g)\n",
    "print(\"dg/dx(punto) = \",evaluado_dg_dx)\n",
    "print(\"dg/dy(punto) = \",evaluado_dg_dy)"
   ]
  }
 ],
 "metadata": {
  "kernelspec": {
   "display_name": "Python 3",
   "language": "python",
   "name": "python3"
  },
  "language_info": {
   "codemirror_mode": {
    "name": "ipython",
    "version": 3
   },
   "file_extension": ".py",
   "mimetype": "text/x-python",
   "name": "python",
   "nbconvert_exporter": "python",
   "pygments_lexer": "ipython3",
   "version": "3.11.0"
  }
 },
 "nbformat": 4,
 "nbformat_minor": 5
}
