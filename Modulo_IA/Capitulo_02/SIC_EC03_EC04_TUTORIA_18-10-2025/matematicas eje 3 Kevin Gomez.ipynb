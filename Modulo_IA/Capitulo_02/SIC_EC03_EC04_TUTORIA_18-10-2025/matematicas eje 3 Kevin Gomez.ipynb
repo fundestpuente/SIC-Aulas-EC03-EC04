{
 "cells": [
  {
   "cell_type": "markdown",
   "id": "be515189",
   "metadata": {},
   "source": [
    "## Ejercicio 3\n",
    "\n",
    "**Matrices:**  \n",
    "A = [[2, 1], [0, 3]]  \n",
    "B = [[1, 2], [3, 0]]  \n",
    "\n",
    "1. Calcula A + B y A × B.  \n",
    "2. Calcula la inversa de A y el determinante de B.\n",
    "\n",
    "**Vectores:**  \n",
    "u = [1, 3]  \n",
    "v = [-1, 2]  \n",
    "\n",
    "1. Calcula el producto interno u·v.  \n",
    "2. Calcula la magnitud de cada vector.\n",
    "\n",
    "**Derivadas:**  \n",
    "h(x) = sin(2*x**2 + 3*x)  \n",
    "\n",
    "1. Calcula la derivada h'(x) usando regla de la cadena.  \n",
    "2. Evalúa h'(1) y h'(0).\n"
   ]
  },
  {
   "cell_type": "code",
   "execution_count": 28,
   "id": "e35c5603",
   "metadata": {},
   "outputs": [
    {
     "name": "stdout",
     "output_type": "stream",
     "text": [
      "La suma de la matriz A y B es: \n",
      " [[3 3]\n",
      " [3 3]]\n",
      "La multiplicacion de la matriz A y B es: \n",
      " [[5 4]\n",
      " [9 0]]\n",
      "La inversa de la matriz A es:\n",
      "  [[ 0.5        -0.16666667]\n",
      " [ 0.          0.33333333]]\n",
      "La Determinante de la matriz B es:\n",
      " -6.0\n",
      "El producto interno de u·v es:\n",
      "  5\n",
      "La magnitud del vector u es: \n",
      " 3.1622776601683795\n",
      "La magnitud del vector v es: \n",
      " 2.23606797749979\n",
      "La derivada de h'(x) = (4*x + 3)*cos(2*x**2 + 3*x)\n",
      "El valor de la derivada evaluada en uno es:  1.98563529824258\n",
      "El valor de la derivada evaluada en cero es:  3.00000000000000\n"
     ]
    }
   ],
   "source": [
    "import numpy as np\n",
    "import sympy as sp\n",
    "\n",
    "#Matrices\n",
    "A = np.array([[2, 1],[0,3]])\n",
    "B = np.array([[1,2],[3,0]])\n",
    "\n",
    "#Suma y multiplicacion de matrices\n",
    "suma = A + B \n",
    "print(\"La suma de la matriz A y B es: \\n\", suma)\n",
    "multiplicacion =np.dot(A,B)\n",
    "print(\"La multiplicacion de la matriz A y B es: \\n\",multiplicacion)\n",
    "\n",
    "#Inversa y determinante de la matrices\n",
    "Inversa_A = np.linalg.inv(A)\n",
    "print(\"La inversa de la matriz A es:\\n \",Inversa_A)\n",
    "\n",
    "Determinante_B = np.linalg.det(B)\n",
    "print(\"La Determinante de la matriz B es:\\n\",Determinante_B)\n",
    "\n",
    "#Vectores\n",
    "u = np.array([1,3])\n",
    "v= np.array([-1,2])\n",
    "\n",
    "#Producto Interno\n",
    "producto_int = np.dot(u,v)\n",
    "print(\"El producto interno de u·v es:\\n \",producto_int)\n",
    "#Magnitud de cada vector\n",
    "magnitud_u = np.linalg.norm(u)\n",
    "magnitud_v = np.linalg.norm(v)\n",
    "print(\"La magnitud del vector u es: \\n\",magnitud_u)\n",
    "print(\"La magnitud del vector v es: \\n\",magnitud_v)\n",
    "\n",
    "#Derivadas\n",
    "x = sp.symbols('x')\n",
    "h = sp.sin(2*x**2 + 3*x)\n",
    "\n",
    "#Derivada de h(x)\n",
    "h_derivada = sp.diff(h, x)\n",
    "print(\"La derivada de h'(x) =\", h_derivada)\n",
    "\n",
    "#Evaluar la derivada\n",
    "valor_derivada_1 = h_derivada.subs(x, 1)\n",
    "print(\"El valor de la derivada evaluada en uno es: \",sp.N(valor_derivada_1))\n",
    "valor_derivada_0 = h_derivada.subs(x, 0)\n",
    "print(\"El valor de la derivada evaluada en cero es: \",sp.N(valor_derivada_0))"
   ]
  },
  {
   "cell_type": "code",
   "execution_count": null,
   "id": "e9d9080d",
   "metadata": {},
   "outputs": [],
   "source": []
  }
 ],
 "metadata": {
  "kernelspec": {
   "display_name": "base",
   "language": "python",
   "name": "python3"
  },
  "language_info": {
   "codemirror_mode": {
    "name": "ipython",
    "version": 3
   },
   "file_extension": ".py",
   "mimetype": "text/x-python",
   "name": "python",
   "nbconvert_exporter": "python",
   "pygments_lexer": "ipython3",
   "version": "3.12.4"
  }
 },
 "nbformat": 4,
 "nbformat_minor": 5
}
