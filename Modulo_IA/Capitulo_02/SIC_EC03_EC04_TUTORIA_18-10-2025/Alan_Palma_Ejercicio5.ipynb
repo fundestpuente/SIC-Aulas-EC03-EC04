{
 "cells": [
  {
   "cell_type": "markdown",
   "id": "6dc40bb8",
   "metadata": {},
   "source": [
    "# SIC: Modulo de IA\n",
    "\n",
    "### **Ejercicio 5**\n",
    "\n",
    "Matrices:\n",
    "A = [[1, 1], [2, 3]]\n",
    "B = [[0, 2], [1, 1]]\n",
    "\n",
    "    Calcula A + B, A - B y A × B.\n",
    "    Calcula la traspuesta de A y la inversa de B (si existe).\n",
    "\n",
    "Vectores:\n",
    "u = [2, 3]\n",
    "v = [1, -1]\n",
    "\n",
    "    Calcula el producto interno u·v y determina ortogonalidad.\n",
    "    Calcula magnitudes y ángulo entre u y v.\n",
    "\n",
    "Derivadas:\n",
    "σ(x) = 1 / (1 + exp(-x)) # Función sigmoide\n",
    "\n",
    "    Calcula σ'(x) simbólicamente y simplifícala.\n",
    "    Evalúa σ'(0) y σ'(1) y explica su interpretación. \"\"\"\n",
    "\n",
    "#### **Nombre:** Alan Palma Travez"
   ]
  },
  {
   "cell_type": "code",
   "execution_count": 1,
   "id": "86038731",
   "metadata": {},
   "outputs": [],
   "source": [
    "import numpy as np\n",
    "import matplotlib.pyplot as plt\n",
    "import sympy as sp"
   ]
  },
  {
   "cell_type": "markdown",
   "id": "1ece4a39",
   "metadata": {},
   "source": [
    "### Matrices"
   ]
  },
  {
   "cell_type": "code",
   "execution_count": 2,
   "id": "99b70da9",
   "metadata": {},
   "outputs": [
    {
     "name": "stdout",
     "output_type": "stream",
     "text": [
      "Matriz A:\n",
      "[[1 1]\n",
      " [2 3]]\n",
      "\n",
      "Matriz B:\n",
      "[[0 2]\n",
      " [1 1]]\n",
      "\n",
      "Matriz C (A + B):\n",
      "[[1 3]\n",
      " [3 4]]\n",
      "\n",
      "Matriz D (A - B):\n",
      "[[ 1 -1]\n",
      " [ 1  2]]\n",
      "\n",
      "Matriz A transpuesta:\n",
      "[[1 2]\n",
      " [1 3]]\n",
      "\n",
      "Matriz B inversa:\n",
      "[[-0.5  1. ]\n",
      " [ 0.5  0. ]]\n"
     ]
    }
   ],
   "source": [
    "# Definir las matrices A y B\n",
    "A = [[1, 1], [2, 3]]\n",
    "B = [[0, 2], [1, 1]]\n",
    "\n",
    "print(\"Matriz A:\")\n",
    "print(np.array(A))\n",
    "print(\"\\nMatriz B:\")\n",
    "print(np.array(B))\n",
    "\n",
    "# Calcular A + B\n",
    "C = np.array(A) + np.array(B)\n",
    "print(\"\\nMatriz C (A + B):\")\n",
    "print(C)\n",
    "\n",
    "# Calcular A - B\n",
    "D = np.array(A) - np.array(B)\n",
    "print(\"\\nMatriz D (A - B):\")\n",
    "print(D)\n",
    "\n",
    "# Calcular A transpuesta\n",
    "A_transpose = np.array(A).T\n",
    "print(\"\\nMatriz A transpuesta:\")\n",
    "print(A_transpose)\n",
    "\n",
    "# Calcular Inversa de B\n",
    "B_inverse = np.linalg.inv(np.array(B))\n",
    "print(\"\\nMatriz B inversa:\")\n",
    "print(B_inverse)"
   ]
  },
  {
   "cell_type": "markdown",
   "id": "b5475747",
   "metadata": {},
   "source": [
    "### Vectores"
   ]
  },
  {
   "cell_type": "code",
   "execution_count": 3,
   "id": "f5f165a9",
   "metadata": {},
   "outputs": [
    {
     "name": "stdout",
     "output_type": "stream",
     "text": [
      "\n",
      "Producto interno de u y v:\n",
      "-1\n",
      "Los vectores u y v no son ortogonales.\n",
      "\n",
      "Magnitud de u:\n",
      "3.605551275463989\n",
      "Magnitud de v:\n",
      "1.4142135623730951\n",
      "\n",
      "Ángulo entre u y v (en grados):\n",
      "101.30993247402021\n"
     ]
    }
   ],
   "source": [
    "# Definir los vectores u y v\n",
    "u = [2, 3]\n",
    "v = [1, -1]\n",
    "\n",
    "# Producto interno\n",
    "dot_product = np.dot(u, v)\n",
    "print(\"\\nProducto interno de u y v:\")\n",
    "print(dot_product)\n",
    "\n",
    "if dot_product == 0:\n",
    "    print(\"Los vectores u y v son ortogonales.\")\n",
    "else:\n",
    "    print(\"Los vectores u y v no son ortogonales.\")\n",
    "\n",
    "# Calcular magnotudes de u y v\n",
    "magnitude_u = np.linalg.norm(u)\n",
    "magnitude_v = np.linalg.norm(v)\n",
    "print(\"\\nMagnitud de u:\")\n",
    "print(magnitude_u)\n",
    "print(\"Magnitud de v:\")\n",
    "print(magnitude_v)\n",
    "\n",
    "# Calcular ángulo entre u y v\n",
    "cos_theta = dot_product / (magnitude_u * magnitude_v)\n",
    "angle_radians = np.arccos(cos_theta)\n",
    "angle_degrees = np.degrees(angle_radians)\n",
    "print(\"\\nÁngulo entre u y v (en grados):\")\n",
    "print(angle_degrees)"
   ]
  },
  {
   "cell_type": "markdown",
   "id": "6b5afbca",
   "metadata": {},
   "source": [
    "### Derivadas"
   ]
  },
  {
   "cell_type": "code",
   "execution_count": null,
   "id": "3116f186",
   "metadata": {},
   "outputs": [
    {
     "name": "stdout",
     "output_type": "stream",
     "text": [
      "\n",
      "Función sigmoide:\n"
     ]
    },
    {
     "data": {
      "text/latex": [
       "$\\displaystyle \\frac{1}{1 + e^{- x}}$"
      ],
      "text/plain": [
       "1/(1 + exp(-x))"
      ]
     },
     "metadata": {},
     "output_type": "display_data"
    },
    {
     "name": "stdout",
     "output_type": "stream",
     "text": [
      "\n",
      "Derivada:\n"
     ]
    },
    {
     "data": {
      "text/latex": [
       "$\\displaystyle \\frac{e^{- x}}{\\left(1 + e^{- x}\\right)^{2}}$"
      ],
      "text/plain": [
       "exp(-x)/(1 + exp(-x))**2"
      ]
     },
     "metadata": {},
     "output_type": "display_data"
    }
   ],
   "source": [
    "# Derivar usando sympy\n",
    "x = sp.symbols('x')\n",
    "sigmoid = 1 / (1 + sp.exp(-x))\n",
    "sigmoid_derivative = sp.diff(sigmoid, x)\n",
    "\n",
    "print(\"\\nFunción sigmoide:\")\n",
    "display(sigmoid)\n",
    "print(\"\\nDerivada:\")\n",
    "display(sigmoid_derivative)"
   ]
  },
  {
   "cell_type": "code",
   "execution_count": 16,
   "id": "577b2c8e",
   "metadata": {},
   "outputs": [
    {
     "data": {
      "text/latex": [
       "$\\displaystyle \\frac{1}{4}$"
      ],
      "text/plain": [
       "1/4"
      ]
     },
     "metadata": {},
     "output_type": "display_data"
    },
    {
     "data": {
      "text/latex": [
       "$\\displaystyle \\frac{1}{e \\left(e^{-1} + 1\\right)^{2}}$"
      ],
      "text/plain": [
       "exp(-1)/(exp(-1) + 1)**2"
      ]
     },
     "metadata": {},
     "output_type": "display_data"
    }
   ],
   "source": [
    "# Evaluar σ'(0) y σ'(1)\n",
    "sigmoid_derivative_at_0 = sigmoid_derivative.subs(x, 0)\n",
    "sigmoid_derivative_at_1 = sigmoid_derivative.subs(x, 1)\n",
    "\n",
    "display(sigmoid_derivative_at_0)\n",
    "display(sigmoid_derivative_at_1)"
   ]
  },
  {
   "cell_type": "code",
   "execution_count": 28,
   "id": "561df2e2",
   "metadata": {},
   "outputs": [
    {
     "data": {
      "image/png": "[encoded data removed]",
      "text/plain": [
       "<Figure size 1000x600 with 1 Axes>"
      ]
     },
     "metadata": {},
     "output_type": "display_data"
    }
   ],
   "source": [
    "# Sigmoid function\n",
    "x_vals = np.linspace(-10, 10, 400)\n",
    "sig_fuc = sp.lambdify(x, sigmoid)\n",
    "y_vals = sig_fuc(x_vals)\n",
    "\n",
    "# Derivative of sigmoid function\n",
    "sig_deriv_fuc = sp.lambdify(x, sigmoid_derivative)\n",
    "y_vals_derivative = sig_deriv_fuc(x_vals)\n",
    "\n",
    "plt.figure(figsize=(10, 6))\n",
    "plt.plot(x_vals, y_vals, label='Sigmoid Function $\\sigma(x)$')\n",
    "plt.plot(x_vals, y_vals_derivative, label='Derivative $\\sigma\\'(x)$', linestyle='--')\n",
    "plt.xlabel('x')\n",
    "plt.ylabel('$\\sigma(x)$')\n",
    "plt.grid()\n",
    "plt.legend()\n",
    "plt.show()"
   ]
  }
 ],
 "metadata": {
  "kernelspec": {
   "display_name": "py310",
   "language": "python",
   "name": "python3"
  },
  "language_info": {
   "codemirror_mode": {
    "name": "ipython",
    "version": 3
   },
   "file_extension": ".py",
   "mimetype": "text/x-python",
   "name": "python",
   "nbconvert_exporter": "python",
   "pygments_lexer": "ipython3",
   "version": "3.10.14"
  }
 },
 "nbformat": 4,
 "nbformat_minor": 5
}
