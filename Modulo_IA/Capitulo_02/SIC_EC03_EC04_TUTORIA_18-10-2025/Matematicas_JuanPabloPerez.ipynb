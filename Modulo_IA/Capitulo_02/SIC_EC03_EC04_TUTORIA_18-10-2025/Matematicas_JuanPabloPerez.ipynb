{
  "nbformat": 4,
  "nbformat_minor": 0,
  "metadata": {
    "colab": {
      "provenance": []
    },
    "kernelspec": {
      "name": "python3",
      "display_name": "Python 3"
    },
    "language_info": {
      "name": "python"
    }
  },
  "cells": [
    {
      "cell_type": "markdown",
      "source": [
        "\"\"\"\n",
        "# Práctica de Python – Ejercicios Combinados\n",
        "\n",
        "📌 Instrucciones generales:\n",
        "\n",
        "1. Cada estudiante debe elegir **uno** de los siguientes cinco ejercicios para resolver.  \n",
        "2. No más de **11 estudiantes por ejercicio**.  \n",
        "3. Deben escribir su **nombre completo** en la sección indicada debajo del ejercicio elegido.  \n",
        "4. Todos los ejercicios se resuelven usando Python (NumPy y SymPy).  \n",
        "5. Cada ejercicio incluye:\n",
        "   - Operaciones con matrices\n",
        "   - Operaciones con vectores\n",
        "   - Derivadas (normales, parciales, de funciones compuestas o sigmoide)\n",
        "\"\"\"\n",
        "\n",
        "# ----------------------------------------------------------\n",
        "# EJERCICIO 1\n",
        "# ----------------------------------------------------------\n",
        "\"\"\"\n",
        "## Ejercicio 1\n",
        "\n",
        "**Matrices:**  \n",
        "A = [[1, 2], [3, 4]]  \n",
        "B = [[2, 0], [1, 2]]  \n",
        "\n",
        "1. Calcula A + B, A - B y el producto matricial A × B.  \n",
        "2. Calcula la traspuesta de A y la inversa de B (si existe).\n",
        "\n",
        "**Vectores:**  \n",
        "u = [1, 2]  \n",
        "v = [3, -1]  \n",
        "\n",
        "1. Calcula el producto interno u·v.  \n",
        "2. Calcula la magnitud de cada vector.  \n",
        "\n",
        "**Derivadas:**  \n",
        "f(x) = x**3 + 2*x**2 + x  \n",
        "\n",
        "1. Calcula la derivada primera y segunda de f(x).  \n",
        "2. Evalúa ambas derivadas en x = 1.\n",
        "\"\"\"\n",
        "\n",
        "# Nombre del estudiante:\n",
        "# Nombre:\n",
        "moises alvarez\n",
        "Danna Ayala\n",
        "Fiorella\n",
        "Arianna Feijoo\n",
        "Valentina\n",
        "Sergio Rodrigue\n",
        "Angie Alfonso\n",
        "Julian Ruiz\n",
        "Daniela Mata\n",
        "Patricio Quishpe\n",
        "Sofia Feijóo\n",
        "# ----------------------------------------------------------\n",
        "# EJERCICIO 2\n",
        "# ----------------------------------------------------------\n",
        "\"\"\"\n",
        "## Ejercicio 2\n",
        "\n",
        "**Matrices:**  \n",
        "A = [[1, 0, 2], [2, 1, 1], [3, 2, 0]]  \n",
        "B = [[0, 1, 1], [1, 2, 0], [2, 1, 3]]  \n",
        "\n",
        "1. Calcula A × B.  \n",
        "2. Calcula la traspuesta y determinante de A.\n",
        "\n",
        "**Vectores:**  \n",
        "u = [2, -1, 3]  \n",
        "v = [1, 4, -2]  \n",
        "\n",
        "1. Calcula el producto interno u·v y determina si son ortogonales.  \n",
        "2. Calcula el ángulo entre u y v.\n",
        "\n",
        "**Derivadas:**  \n",
        "g(x, y) = x**2 * y + sin(x*y)  \n",
        "\n",
        "1. Calcula las derivadas parciales ∂g/∂x y ∂g/∂y.  \n",
        "2. Evalúa en el punto (x=1, y=π/2).\n",
        "\"\"\"\n",
        "\n",
        "# Nombre del estudiante:\n",
        "# Nombre:\n",
        "Joseph Carrera\n",
        "Jaime Estrada\n",
        "Jhony Peñaherrera\n",
        "Steve Robinson\n",
        "Bryan Robalino\n",
        " Christian Zavala\n",
        " Gabriel Imbacuán\n",
        " Luis Romero\n",
        "# ----------------------------------------------------------\n",
        "# EJERCICIO 3\n",
        "\n",
        "\"\"\"\n",
        "## Ejercicio 3\n",
        "\n",
        "**Matrices:**  \n",
        "A = [[2, 1], [0, 3]]  \n",
        "B = [[1, 2], [3, 0]]  \n",
        "\n",
        "1. Calcula A + B y A × B.  \n",
        "2. Calcula la inversa de A y el determinante de B.\n",
        "\n",
        "**Vectores:**  \n",
        "u = [1, 3]  \n",
        "v = [-1, 2]  \n",
        "\n",
        "1. Calcula el producto interno u·v.  \n",
        "2. Calcula la magnitud de cada vector.\n",
        "\n",
        "**Derivadas:**  \n",
        "h(x) = sin(2*x**2 + 3*x)  \n",
        "\n",
        "1. Calcula la derivada h'(x) usando regla de la cadena.  \n",
        "2. Evalúa h'(1) y h'(0).\n",
        "\"\"\"\n",
        "\n",
        "# Nombre del estudiante:\n",
        "# Nombre:\n",
        "Kevin Santiago Perez Cevallos\n",
        "Kevin Gomez\n",
        "Jhulie Conza\n",
        "Camilo Vasquez\n",
        "Brayan Maisincho\n",
        "Joseph Granja\n",
        "\n",
        "# ----------------------------------------------------------\n",
        "# EJERCICIO 4\n",
        "# ----------------------------------------------------------\n",
        "\"\"\"\n",
        "## Ejercicio 4\n",
        "\n",
        "**Matrices:**  \n",
        "A = [[1, 2, 0], [0, 1, 1], [3, 0, 2]]  \n",
        "B = [[2, 1, 1], [1, 0, 3], [0, 2, 1]]  \n",
        "\n",
        "1. Calcula A × B y la traspuesta de B.  \n",
        "2. Calcula el determinante de A y, si existe, su inversa.\n",
        "\n",
        "**Vectores:**  \n",
        "u = [1, -2, 3]  \n",
        "v = [0, 1, 4]  \n",
        "\n",
        "1. Calcula el producto interno u·v.  \n",
        "2. Calcula la magnitud y el ángulo entre los vectores.\n",
        "\n",
        "**Derivadas:**  \n",
        "f(x) = x**4 - 3*x**3 + 2*x - 5  \n",
        "\n",
        "1. Calcula f'(x) y f''(x).  \n",
        "2. Evalúa en x = 2 y comenta la concavidad.\n",
        "\"\"\"\n",
        "\n",
        "# Nombre del estudiante:\n",
        "# Nombre:\n",
        "Gabriel Andrade\n",
        "Diego Montesdeoca\n",
        "Mario Anrrango\n",
        "Ayman El Salous\n",
        "Daniel Heredia\n",
        "Esteban Quiña\n",
        "Luis Pezo\n",
        "Daniel Suárez\n",
        "Pablo Cárdenas\n",
        "Juan Pablo Pérez\n",
        "# ----------------------------------------------------------\n",
        "# EJERCICIO 5\n",
        "# ----------------------------------------------------------\n",
        "\"\"\"\n",
        "## Ejercicio 5\n",
        "\n",
        "**Matrices:**  \n",
        "A = [[1, 1], [2, 3]]  \n",
        "B = [[0, 2], [1, 1]]  \n",
        "\n",
        "1. Calcula A + B, A - B y A × B.  \n",
        "2. Calcula la traspuesta de A y la inversa de B (si existe).\n",
        "\n",
        "**Vectores:**  \n",
        "u = [2, 3]  \n",
        "v = [1, -1]  \n",
        "\n",
        "1. Calcula el producto interno u·v y determina ortogonalidad.  \n",
        "2. Calcula magnitudes y ángulo entre u y v.\n",
        "\n",
        "**Derivadas:**  \n",
        "σ(x) = 1 / (1 + exp(-x))  # Función sigmoide  \n",
        "\n",
        "1. Calcula σ'(x) simbólicamente y simplifícala.  \n",
        "2. Evalúa σ'(0) y σ'(1) y explica su interpretación.\n",
        "\"\"\"\n",
        "\n",
        "# Nombre del estudiante:\n",
        "# Nombre:\n",
        "Vladimir Espinoza\n",
        "Alan Palma\n",
        "Fernando Quezada\n",
        "Krister Figueroa\n",
        "William Vera\n",
        "Alejandro Obando\n",
        "John Vera\n"
      ],
      "metadata": {
        "id": "mfwH7YTWgee7"
      }
    },
    {
      "cell_type": "code",
      "source": [
        "# Ejercicio 4\n",
        "import numpy as np\n",
        "import sympy as sp\n",
        "\n",
        "sp.init_printing(use_latex='mathjax')\n",
        "\n",
        "\n",
        "A = sp.Matrix([[1, 2, 0],\n",
        "               [0, 1, 1],\n",
        "               [3, 0, 2]])\n",
        "\n",
        "B = sp.Matrix([[2, 1, 1],\n",
        "               [1, 0, 3],\n",
        "               [0, 2, 1]])\n",
        "\n",
        "u = sp.Matrix([1, -2, 3])\n",
        "v = sp.Matrix([0,  1, 4])\n",
        "\n",
        "x = sp.symbols('x')\n",
        "f = x**4 - 3*x**3 + 2*x - 5\n",
        "x0 = 2\n"
      ],
      "metadata": {
        "id": "pJawBJw_3s8H"
      },
      "execution_count": 1,
      "outputs": []
    },
    {
      "cell_type": "code",
      "source": [
        "# 1. A x B\n",
        "A_times_B = sp.simplify(A*B)\n",
        "print(\"\\nA x B =\"); display(A_times_B)\n",
        "# Transpuesta de B\n",
        "print(\"\\n B transpuesta: \"); display(B.T)\n",
        "\n",
        "# 2. Determinante de A y (si existe) la inversa\n",
        "def obtener_det_inv(M):\n",
        "    detM = sp.simplify(M.det())\n",
        "    print(\"det(M) =\", detM)\n",
        "    if detM != 0:\n",
        "        Minv = sp.simplify(M.inv())\n",
        "        print(\"M^{-1} =\")\n",
        "        display(Minv)\n",
        "        return detM, Minv\n",
        "    else:\n",
        "        print(\"M no es invertible (det=0)\")\n",
        "        return detM, None\n",
        "\n",
        "detA, Ainv = obtener_det_inv(A)"
      ],
      "metadata": {
        "colab": {
          "base_uri": "https://localhost:8080/",
          "height": 426
        },
        "id": "CI7qkJNMAB1M",
        "outputId": "7acf28af-2e07-4805-e06b-6e1b1226c7f1"
      },
      "execution_count": 4,
      "outputs": [
        {
          "output_type": "stream",
          "name": "stdout",
          "text": [
            "\n",
            "A x B =\n"
          ]
        },
        {
          "output_type": "display_data",
          "data": {
            "text/plain": [
              "⎡4  1  7⎤\n",
              "⎢       ⎥\n",
              "⎢1  2  4⎥\n",
              "⎢       ⎥\n",
              "⎣6  7  5⎦"
            ],
            "text/latex": "$\\displaystyle \\left[\\begin{matrix}4 & 1 & 7\\\\1 & 2 & 4\\\\6 & 7 & 5\\end{matrix}\\right]$"
          },
          "metadata": {}
        },
        {
          "output_type": "stream",
          "name": "stdout",
          "text": [
            "\n",
            " B transpuesta: \n"
          ]
        },
        {
          "output_type": "display_data",
          "data": {
            "text/plain": [
              "⎡2  1  0⎤\n",
              "⎢       ⎥\n",
              "⎢1  0  2⎥\n",
              "⎢       ⎥\n",
              "⎣1  3  1⎦"
            ],
            "text/latex": "$\\displaystyle \\left[\\begin{matrix}2 & 1 & 0\\\\1 & 0 & 2\\\\1 & 3 & 1\\end{matrix}\\right]$"
          },
          "metadata": {}
        },
        {
          "output_type": "stream",
          "name": "stdout",
          "text": [
            "det(M) = 8\n",
            "M^{-1} =\n"
          ]
        },
        {
          "output_type": "display_data",
          "data": {
            "text/plain": [
              "⎡1/4   -1/2  1/4 ⎤\n",
              "⎢                ⎥\n",
              "⎢3/8   1/4   -1/8⎥\n",
              "⎢                ⎥\n",
              "⎣-3/8  3/4   1/8 ⎦"
            ],
            "text/latex": "$\\displaystyle \\left[\\begin{matrix}\\frac{1}{4} & - \\frac{1}{2} & \\frac{1}{4}\\\\\\frac{3}{8} & \\frac{1}{4} & - \\frac{1}{8}\\\\- \\frac{3}{8} & \\frac{3}{4} & \\frac{1}{8}\\end{matrix}\\right]$"
          },
          "metadata": {}
        }
      ]
    },
    {
      "cell_type": "code",
      "source": [
        "# Vectores\n",
        "# 1. Producto interno u . v\n",
        "pro_interno = sp.simplify(u.dot(v))\n",
        "print(\"u . v =\", pro_interno)\n",
        "\n",
        "# 2. Magnitud y ángulo\n",
        "mag_u = sp.sqrt((u.T*u)[0])\n",
        "mag_v = sp.sqrt((v.T*v)[0])\n",
        "print(\"|u| = \", mag_u, \" = \", float(mag_u))\n",
        "print(\"|v| = \", mag_v, \" = \", float(mag_v))\n",
        "\n",
        "cos_theta = sp.simplify(pro_interno / (mag_u * mag_v))\n",
        "print(\"cos(theta) =\", cos_theta, \"=\", float(cos_theta))\n",
        "theta_ang_exact = sp.simplify(sp.acos(cos_theta) * 180 / sp.pi)\n",
        "print(\"θ (grados) =\", theta_ang_exact, \" = \", float(theta_ang_exact) )"
      ],
      "metadata": {
        "colab": {
          "base_uri": "https://localhost:8080/"
        },
        "id": "JRX3lKppA4vA",
        "outputId": "0fd5c9fc-bf78-438d-93dd-95d7539da82e"
      },
      "execution_count": 16,
      "outputs": [
        {
          "output_type": "stream",
          "name": "stdout",
          "text": [
            "u . v = 10\n",
            "|u| =  sqrt(14)  =  3.7416573867739413\n",
            "|v| =  sqrt(17)  =  4.123105625617661\n",
            "cos(theta) = 5*sqrt(238)/119 = 0.6482037235521644\n",
            "θ (grados) = 180*acos(5*sqrt(238)/119)/pi  =  49.59369316056338\n"
          ]
        }
      ]
    },
    {
      "cell_type": "code",
      "source": [
        "# Derivadas\n",
        "\n",
        "# 1. f'(x) y f''(x)\n",
        "fp  = sp.simplify(sp.diff(f, x))\n",
        "fpp = sp.simplify(sp.diff(fp, x))\n",
        "print(\"f(x)  =\", f)\n",
        "print(\"f'(x) =\", fp)\n",
        "print(\"f''(x)=\", fpp)\n",
        "\n",
        "\n",
        "# 2. Evaluación en x = 2 y concavidad\n",
        "f_x0   = sp.simplify(f.subs(x, x0))\n",
        "fp_x0  = sp.simplify(fp.subs(x, x0))\n",
        "fpp_x0 = sp.simplify(fpp.subs(x, x0))\n",
        "\n",
        "print(f\"\\nEvaluación en x = {x0}:\")\n",
        "print(\"  f(x0)   =\", f_x0,  \"=\", float(f_x0))\n",
        "print(\"  f'(x0)  =\", fp_x0, \"=\", float(fp_x0))\n",
        "print(\"  f''(x0) =\", fpp_x0,\"=\", float(fpp_x0))\n",
        "\n",
        "\n",
        "# Concavidad\n",
        "if fpp_x0 > 0:\n",
        "    print(\"Concavidad: hacia arriba (convexa) en x0.\")\n",
        "elif fpp_x0 < 0:\n",
        "    print(\"Concavidad: hacia abajo (cóncava) en x0.\")\n",
        "else:\n",
        "    print(\"Concavidad: f''(x0) = 0 ⇒ posible punto de inflexión.\")"
      ],
      "metadata": {
        "colab": {
          "base_uri": "https://localhost:8080/"
        },
        "id": "17WeCz07CxAS",
        "outputId": "6e56a900-1b91-40d8-e670-27216483dd9d"
      },
      "execution_count": 21,
      "outputs": [
        {
          "output_type": "stream",
          "name": "stdout",
          "text": [
            "f(x)  = x**4 - 3*x**3 + 2*x - 5\n",
            "f'(x) = 4*x**3 - 9*x**2 + 2\n",
            "f''(x)= 6*x*(2*x - 3)\n",
            "\n",
            "Evaluación en x = 2:\n",
            "  f(x0)   = -9 = -9.0\n",
            "  f'(x0)  = -2 = -2.0\n",
            "  f''(x0) = 12 = 12.0\n",
            "Concavidad: hacia arriba (convexa) en x0.\n"
          ]
        }
      ]
    }
  ]
}