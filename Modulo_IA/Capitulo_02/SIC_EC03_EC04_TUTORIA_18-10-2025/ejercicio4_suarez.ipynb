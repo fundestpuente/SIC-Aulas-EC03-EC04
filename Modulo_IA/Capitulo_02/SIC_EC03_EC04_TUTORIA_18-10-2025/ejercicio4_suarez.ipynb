{
 "cells": [
  {
   "cell_type": "markdown",
   "id": "c1ed7bb0",
   "metadata": {},
   "source": [
    "# ----------------------------------------------------------\n",
    "# EJERCICIO 4\n",
    "# ----------------------------------------------------------\n",
    "\"\"\"\n",
    "## Ejercicio 4\n",
    "\n",
    "**Matrices:**  \n",
    "A = [[1, 2, 0], [0, 1, 1], [3, 0, 2]]  \n",
    "B = [[2, 1, 1], [1, 0, 3], [0, 2, 1]]  \n",
    "\n",
    "1. Calcula A × B y la traspuesta de B.  \n",
    "2. Calcula el determinante de A y, si existe, su inversa.\n",
    "\n",
    "**Vectores:**  \n",
    "u = [1, -2, 3]  \n",
    "v = [0, 1, 4]  \n",
    "\n",
    "1. Calcula el producto interno u·v.  \n",
    "2. Calcula la magnitud y el ángulo entre los vectores.\n",
    "\n",
    "**Derivadas:**  \n",
    "f(x) = x**4 - 3*x**3 + 2*x - 5  \n",
    "\n",
    "1. Calcula f'(x) y f''(x).  \n",
    "2. Evalúa en x = 2 y comenta la concavidad.\n",
    "\"\"\""
   ]
  },
  {
   "cell_type": "markdown",
   "id": "1095a526",
   "metadata": {},
   "source": [
    "---"
   ]
  },
  {
   "cell_type": "markdown",
   "id": "6a860018",
   "metadata": {},
   "source": [
    "**Matrices:**"
   ]
  },
  {
   "cell_type": "code",
   "execution_count": 22,
   "id": "ce15c3fc",
   "metadata": {},
   "outputs": [],
   "source": [
    "import numpy as np\n",
    "A = np.array([\n",
    "            [1, 2, 0],\n",
    "            [0, 1, 1],\n",
    "            [3, 0, 2]\n",
    "            ])  \n",
    "B = np.array([\n",
    "            [2, 1, 1],\n",
    "            [1, 0, 3],\n",
    "            [0, 2, 1]\n",
    "            ])"
   ]
  },
  {
   "cell_type": "markdown",
   "id": "df1a81ca",
   "metadata": {},
   "source": [
    "1. Calcula A × B y la traspuesta de B.  "
   ]
  },
  {
   "cell_type": "code",
   "execution_count": 21,
   "id": "13ed371a",
   "metadata": {},
   "outputs": [
    {
     "name": "stdout",
     "output_type": "stream",
     "text": [
      "Matriz A: \n",
      "[[1 2 0]\n",
      " [0 1 1]\n",
      " [3 0 2]]\n",
      "\n",
      "Matriz B:\n",
      "[[2 1 1]\n",
      " [1 0 3]\n",
      " [0 2 1]]\n",
      "\n",
      "Matriz A x B\n",
      "[[4 1 7]\n",
      " [1 2 4]\n",
      " [6 7 5]]\n",
      "\n",
      "Transpuesta de B\n",
      "[[2 1 0]\n",
      " [1 0 2]\n",
      " [1 3 1]]\n"
     ]
    }
   ],
   "source": [
    "aB = np.dot(A, B)\n",
    "print(\"Matriz A: \")\n",
    "print(A)\n",
    "print(\"\\nMatriz B:\")\n",
    "print(B)\n",
    "print(\"\\nMatriz A x B\")\n",
    "print(aB)\n",
    "print(\"\\nTranspuesta de B\")\n",
    "print(B.T)"
   ]
  },
  {
   "cell_type": "markdown",
   "id": "58dcbc29",
   "metadata": {},
   "source": [
    "2. Calcula el determinante de A y, si existe, su inversa."
   ]
  },
  {
   "cell_type": "code",
   "execution_count": 37,
   "id": "9d82a840",
   "metadata": {},
   "outputs": [
    {
     "name": "stdout",
     "output_type": "stream",
     "text": [
      "Determinante de A 7.999999999999998\n",
      "\n",
      " Inversa de A:\n",
      "[[ 0.25  -0.5    0.25 ]\n",
      " [ 0.375  0.25  -0.125]\n",
      " [-0.375  0.75   0.125]]\n"
     ]
    }
   ],
   "source": [
    "det = np.linalg.det(A)\n",
    "print(f\"Determinante de A {det if det is not None else None}\")\n",
    "inversa = np.linalg.inv(A)\n",
    "print(\"\\n Inversa de A:\")\n",
    "print(inversa if inversa is not None else None)"
   ]
  },
  {
   "cell_type": "markdown",
   "id": "ba1e1c48",
   "metadata": {},
   "source": [
    "---"
   ]
  },
  {
   "cell_type": "markdown",
   "id": "037ef8a4",
   "metadata": {},
   "source": [
    "**Vectores:**"
   ]
  },
  {
   "cell_type": "code",
   "execution_count": 11,
   "id": "b80c5917",
   "metadata": {},
   "outputs": [],
   "source": [
    "u = np.array([1, -2, 3])\n",
    "v = np.array([0, 1, 4])  "
   ]
  },
  {
   "cell_type": "markdown",
   "id": "c6daca8e",
   "metadata": {},
   "source": [
    "1. Calcula el producto interno u·v.  "
   ]
  },
  {
   "cell_type": "code",
   "execution_count": 39,
   "id": "216fe946",
   "metadata": {},
   "outputs": [
    {
     "name": "stdout",
     "output_type": "stream",
     "text": [
      "Vector u: [ 1 -2  3]\n",
      "\n",
      "Vector v: [ 1 -2  3]\n",
      "\n",
      "Vector u x v: 10\n"
     ]
    }
   ],
   "source": [
    "uV = np.dot(u, v)\n",
    "print(f\"Vector u: {u}\")\n",
    "print(f\"\\nVector v: {u}\")\n",
    "print(f\"\\nVector u x v: {uV}\")"
   ]
  },
  {
   "cell_type": "markdown",
   "id": "e78987d3",
   "metadata": {},
   "source": [
    "2. Calcula la magnitud y el ángulo entre los vectores."
   ]
  },
  {
   "cell_type": "code",
   "execution_count": 47,
   "id": "12d5c1ab",
   "metadata": {},
   "outputs": [
    {
     "name": "stdout",
     "output_type": "stream",
     "text": [
      "‖v‖ = 3.74\n",
      "‖u‖ = 4.12\n",
      "Ángulo entre a y b = 49.59°\n"
     ]
    }
   ],
   "source": [
    "magU = np.linalg.norm(u)\n",
    "print(f\"‖v‖ = {magU:.2f}\")\n",
    "magV = np.linalg.norm(v)\n",
    "print(f\"‖u‖ = {magV:.2f}\")\n",
    "\n",
    "anguloRad = np.arccos(uV / (magU * magV))\n",
    "anguloDeg = np.degrees(anguloRad)\n",
    "print(f\"Ángulo entre a y b = {anguloDeg:.2f}°\")\n"
   ]
  },
  {
   "cell_type": "markdown",
   "id": "c501de45",
   "metadata": {},
   "source": [
    "---"
   ]
  },
  {
   "cell_type": "markdown",
   "id": "7d0499e2",
   "metadata": {},
   "source": [
    "**Derivadas:**"
   ]
  },
  {
   "cell_type": "code",
   "execution_count": 34,
   "id": "96d95ade",
   "metadata": {},
   "outputs": [],
   "source": [
    "import sympy as sp\n",
    "\n",
    "x = sp.Symbol('x')\n",
    "f = x**4 - 3*x**3 + 2*x - 5"
   ]
  },
  {
   "cell_type": "markdown",
   "id": "c89370a4",
   "metadata": {},
   "source": [
    "1. Calcula f'(x) y f''(x).  "
   ]
  },
  {
   "cell_type": "code",
   "execution_count": 35,
   "id": "bb8f0a08",
   "metadata": {},
   "outputs": [
    {
     "name": "stdout",
     "output_type": "stream",
     "text": [
      "f'(x) = 4*x**3 - 9*x**2 + 2\n",
      "f''(x) = 12*x**2 - 18*x\n"
     ]
    }
   ],
   "source": [
    "first = sp.diff(f, x)\n",
    "print(f\"f'(x) = {first}\")\n",
    "\n",
    "second = sp.diff(first, x)\n",
    "print(f\"f''(x) = {second}\")"
   ]
  },
  {
   "cell_type": "markdown",
   "id": "5397502c",
   "metadata": {},
   "source": [
    "2. Evalúa en x = 2 y comenta la concavidad."
   ]
  },
  {
   "cell_type": "code",
   "execution_count": 36,
   "id": "809688f7",
   "metadata": {},
   "outputs": [
    {
     "name": "stdout",
     "output_type": "stream",
     "text": [
      "f'(2) = -2\n",
      "f''(2) = 12\n",
      "Concavidad en x=2: cóncava hacia arriba\n"
     ]
    }
   ],
   "source": [
    "xVal = 2\n",
    "firstVal = first.subs(x, xVal)\n",
    "secondVal = second.subs(x, xVal)\n",
    "\n",
    "\n",
    "print(f\"f'(2) = {firstVal}\")\n",
    "print(f\"f''(2) = {secondVal}\")\n",
    "\n",
    "if secondVal > 0:\n",
    "    concavidad = \"cóncava hacia arriba\"\n",
    "elif secondVal < 0:\n",
    "    concavidad = \"cóncava hacia abajo\"\n",
    "else:\n",
    "    concavidad = \"punto de inflexión\"\n",
    "\n",
    "print(f\"Concavidad en x=2: {concavidad}\")"
   ]
  }
 ],
 "metadata": {
  "kernelspec": {
   "display_name": "Python 3",
   "language": "python",
   "name": "python3"
  },
  "language_info": {
   "codemirror_mode": {
    "name": "ipython",
    "version": 3
   },
   "file_extension": ".py",
   "mimetype": "text/x-python",
   "name": "python",
   "nbconvert_exporter": "python",
   "pygments_lexer": "ipython3",
   "version": "3.11.0"
  }
 },
 "nbformat": 4,
 "nbformat_minor": 5
}
