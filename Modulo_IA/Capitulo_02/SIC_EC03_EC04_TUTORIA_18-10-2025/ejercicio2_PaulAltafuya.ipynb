{
 "cells": [
  {
   "cell_type": "markdown",
   "id": "7789b5ae",
   "metadata": {},
   "source": [
    "## Ejercicio 2\n",
    "\n",
    "**Matrices:**  \n",
    "A = [[1, 0, 2], [2, 1, 1], [3, 2, 0]]  \n",
    "B = [[0, 1, 1], [1, 2, 0], [2, 1, 3]]  \n",
    "\n",
    "1. Calcula A × B.  \n",
    "2. Calcula la traspuesta y determinante de A.\n",
    "\n",
    "**Vectores:**  \n",
    "u = [2, -1, 3]  \n",
    "v = [1, 4, -2]  \n",
    "\n",
    "1. Calcula el producto interno u·v y determina si son ortogonales.  \n",
    "2. Calcula el ángulo entre u y v.\n",
    "\n",
    "**Derivadas:**  \n",
    "g(x, y) = x**2 * y + sin(x*y)  \n",
    "\n",
    "1. Calcula las derivadas parciales ∂g/∂x y ∂g/∂y.  \n",
    "2. Evalúa en el punto (x=1, y=π/2)."
   ]
  },
  {
   "cell_type": "code",
   "execution_count": 42,
   "id": "236dc8a4",
   "metadata": {},
   "outputs": [],
   "source": [
    "import numpy as np"
   ]
  },
  {
   "cell_type": "code",
   "execution_count": 46,
   "id": "c79219ea",
   "metadata": {},
   "outputs": [
    {
     "name": "stdout",
     "output_type": "stream",
     "text": [
      "\n",
      "--- Matrices ---\n",
      "Matriz A: \n",
      " [[1 0 2]\n",
      " [2 1 1]\n",
      " [3 2 0]]\n",
      "Matriz B: \n",
      " [[0 1 1]\n",
      " [1 2 0]\n",
      " [2 1 3]]\n",
      "\n",
      "A x B = \n",
      " [[4 3 7]\n",
      " [3 5 5]\n",
      " [2 7 3]]\n",
      "\n",
      "Traspuesta de A:\n",
      " [[1 2 3]\n",
      " [0 1 2]\n",
      " [2 1 0]]\n",
      "\n",
      "Determinante de A: -4.440892098500646e-16\n"
     ]
    }
   ],
   "source": [
    "# Matrices\n",
    "\n",
    "A = np.array([[1, 0, 2], [2, 1, 1], [3, 2, 0]])\n",
    "B = np.array([[0, 1, 1], [1, 2, 0], [2, 1, 3]])\n",
    "\n",
    "print(\"\\n--- Matrices ---\")\n",
    "print(\"Matriz A: \\n\", A)\n",
    "print(\"Matriz B: \\n\", B)\n",
    "\n",
    "# 1. Multiplicación de matrices A × B\n",
    "print(\"\\nA x B = \\n\", np.dot(A, B))\n",
    "\n",
    "# 2. Traspuesta de A\n",
    "print(\"\\nTraspuesta de A:\\n\", A.T)\n",
    "\n",
    "# Determinante de A\n",
    "# El determinante es un escalar que indica propiedades de la matriz:\n",
    "# - Si det(A) = 0, la matriz es singular (no tiene inversa)\n",
    "# - Si det(A) ≠ 0, la matriz es invertible\n",
    "determinante_A = np.linalg.det(A) \n",
    "\n",
    "print(\"\\nDeterminante de A:\", determinante_A)"
   ]
  },
  {
   "cell_type": "code",
   "execution_count": 44,
   "id": "f20dc2fe",
   "metadata": {},
   "outputs": [
    {
     "name": "stdout",
     "output_type": "stream",
     "text": [
      "\n",
      "--- Vectores ---\n",
      "u = [ 2 -1  3]\n",
      "v = [ 1  4 -2]\n",
      "\n",
      "Producto interno (u·v) = -8\n",
      "Los vectores NO son ortogonales\n",
      "\n",
      "Magintud de u: 3.742\n",
      "Magnitud de v: 4.583\n",
      "\n",
      "Coseno del ángulo: -0.4665694748158435\n",
      "Ángulo en radianes: 2.056\n",
      "Ángulo en grados: 117.81°\n"
     ]
    }
   ],
   "source": [
    "# Vectores\n",
    "# Definimos los vectores u y v como arrays de NumPy\n",
    "u = np.array([2, -1, 3])\n",
    "v = np.array([1, 4, -2])\n",
    "\n",
    "print(\"\\n--- Vectores ---\")\n",
    "print(\"u =\", u)\n",
    "print(\"v =\", v)\n",
    "\n",
    "# Producto interno\n",
    "producto_interno = np.dot(u, v)\n",
    "print(\"\\nProducto interno (u·v) =\", producto_interno)\n",
    "\n",
    "# Dos vectores son ortogonales (perpendiculares) si su producto interno es 0\n",
    "if producto_interno == 0:\n",
    "    print(\"Los vectores son ortogonales (perpendiculares)\")\n",
    "else:\n",
    "    print(\"Los vectores NO son ortogonales\")\n",
    "\n",
    "# Ángulo entre u y v\n",
    "# Calculamos las normas (magnitudes) de los vectores\n",
    "norma_u = np.linalg.norm(u)\n",
    "norma_v = np.linalg.norm(v)\n",
    "\n",
    "print(f\"\\nMagintud de u: {norma_u.round(3)}\")\n",
    "print(f\"Magnitud de v: {norma_v.round(3)}\")\n",
    "\n",
    "\n",
    "# Coseno del ángulo\n",
    "cos_theta = producto_interno / (norma_u * norma_v)\n",
    "\n",
    "# Calcular el ángulo en radianes\n",
    "angulo_rad = np.arccos(cos_theta)\n",
    "\n",
    "# Convertir el ángulo a grados\n",
    "angulo_grados = np.degrees(angulo_rad)\n",
    "\n",
    "print(f\"\\nCoseno del ángulo: {cos_theta}\")\n",
    "print(f\"Ángulo en radianes: {angulo_rad.round(3)}\")\n",
    "print(f\"Ángulo en grados: {angulo_grados.round(2)}°\")"
   ]
  },
  {
   "cell_type": "code",
   "execution_count": 47,
   "id": "612f09e7",
   "metadata": {},
   "outputs": [
    {
     "name": "stdout",
     "output_type": "stream",
     "text": [
      "\n",
      "--- Derivadas ---\n",
      "Función g(x, y) = x**2*y + sin(x*y)\n",
      "∂g/∂x = 2*x*y + y*cos(x*y)\n",
      "∂g/∂y = x**2 + x*cos(x*y)\n",
      "\n",
      "Evaluando en el punto (x = 1, y = π/2)\n",
      "∂g/∂x = pi\n",
      "∂g/∂y = 1\n"
     ]
    }
   ],
   "source": [
    "# Derivadas\n",
    "import sympy as sp\n",
    "\n",
    "print(\"\\n--- Derivadas ---\")\n",
    "\n",
    "# Variables simbólicas\n",
    "x, y = sp.symbols('x y')\n",
    "\n",
    "# función g(x, y) = x²y + sin(xy)\n",
    "g = x**2 * y + sp.sin(x * y)\n",
    "\n",
    "\n",
    "# derivadas parciales\n",
    "# derivada de g con respecto a x(∂g/∂x)\n",
    "dg_dx = sp.diff(g, x)  \n",
    "\n",
    "# derivada de g con respecto a y(∂g/∂y)\n",
    "dg_dy = sp.diff(g, y)\n",
    "\n",
    "print(f\"Función g(x, y) = {g}\")\n",
    "print(f\"∂g/∂x = {dg_dx}\")\n",
    "print(f\"∂g/∂y = {dg_dy}\")\n",
    "\n",
    "# evaluar las derivadas en el punto (x = 1, y = π/2)\n",
    "punto = { x:1, y: sp.pi / 2 }\n",
    "\n",
    "# sustituir los valores en las derivadas\n",
    "dg_dx_eval = dg_dx.subs(punto)\n",
    "dg_dy_eval = dg_dy.subs(punto)\n",
    "\n",
    "print(\"\\nEvaluando en el punto (x = 1, y = π/2)\")\n",
    "print(f\"∂g/∂x = {dg_dx_eval}\")\n",
    "print(f\"∂g/∂y = {dg_dy_eval}\")"
   ]
  }
 ],
 "metadata": {
  "kernelspec": {
   "display_name": "Python 3",
   "language": "python",
   "name": "python3"
  },
  "language_info": {
   "codemirror_mode": {
    "name": "ipython",
    "version": 3
   },
   "file_extension": ".py",
   "mimetype": "text/x-python",
   "name": "python",
   "nbconvert_exporter": "python",
   "pygments_lexer": "ipython3",
   "version": "3.13.7"
  }
 },
 "nbformat": 4,
 "nbformat_minor": 5
}
