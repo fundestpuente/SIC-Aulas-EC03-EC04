{
 "cells": [
  {
   "cell_type": "markdown",
   "id": "da8dec95",
   "metadata": {},
   "source": [
    "**Matrices:**  \n",
    "A = [[1, 2, 0], [0, 1, 1], [3, 0, 2]]  \n",
    "B = [[2, 1, 1], [1, 0, 3], [0, 2, 1]]  \n",
    "\n",
    "1. Calcula A × B y la traspuesta de B.  \n",
    "2. Calcula el determinante de A y, si existe, su inversa."
   ]
  },
  {
   "cell_type": "code",
   "execution_count": 11,
   "id": "9a69bc2c",
   "metadata": {},
   "outputs": [
    {
     "name": "stdout",
     "output_type": "stream",
     "text": [
      "*******************************************************\n",
      "El producoto de las matrices A y B es:  \n",
      " [[4 1 7]\n",
      " [1 2 4]\n",
      " [6 7 5]]\n",
      "*******************************************************\n",
      "El determinante de la matriz A es: 7.999999999999998\n",
      "*******************************************************\n",
      "La matriz inversa de A es \n",
      ": [[ 0.25  -0.5    0.25 ]\n",
      " [ 0.375  0.25  -0.125]\n",
      " [-0.375  0.75   0.125]]\n"
     ]
    }
   ],
   "source": [
    "import numpy as np\n",
    "\n",
    "A = np.array([[1, 2, 0], [0, 1, 1], [3, 0, 2]]) \n",
    "B = np.array([[2, 1, 1], [1, 0, 3], [0, 2, 1]]) \n",
    "\n",
    "C = np.dot(A, B)\n",
    "determinante = np.linalg.det(A)\n",
    "print(\"*\"*55)\n",
    "print(f\"El producoto de las matrices A y B es:  \\n {C}\")\n",
    "print(\"*\"*55)\n",
    "\n",
    "print(f\"El determinante de la matriz A es: {determinante}\")\n",
    "print(\"*\"*55)\n",
    "\n",
    "if determinante == 0:\n",
    "    print(\"La matriz no tiene matriz inversa.\")\n",
    "else:\n",
    "    inversa = np.linalg.inv(A)\n",
    "    print(f\"La matriz inversa de A es \\n: {inversa}\")\n",
    "\n",
    "\n",
    "\n",
    "\n",
    "\n"
   ]
  },
  {
   "cell_type": "markdown",
   "id": "60729b28",
   "metadata": {},
   "source": [
    "**Vectores:**  \n",
    "<!-- u = [1, -2, 3]   -->\n",
    "v = [0, 1, 4]  \n",
    "\n",
    "1. Calcula el producto interno u·v.  \n",
    "2. Calcula la magnitud y el ángulo entre los vectores."
   ]
  },
  {
   "cell_type": "code",
   "execution_count": 15,
   "id": "08d195bd",
   "metadata": {},
   "outputs": [
    {
     "name": "stdout",
     "output_type": "stream",
     "text": [
      "El vector [ 1 -2  3], tiene una magnitud de 3.7416573867739413\n",
      "El vector [0 1 4], tiene una magnitud de 4.123105625617661\n",
      "El producto entre los dos vectores es de: 10\n",
      "El angulo entre los dos vectores es de: 49.59369316056338\n"
     ]
    }
   ],
   "source": [
    "u = np.array([1, -2, 3])\n",
    "v = np.array([0, 1, 4])\n",
    "\n",
    "producto = np.dot(u, v)\n",
    "\n",
    "magnitud_u = np.linalg.norm(u)\n",
    "magnitud_v = np.linalg.norm(v)\n",
    "\n",
    "cos_theta = producto / (magnitud_u * magnitud_v)\n",
    "angulo_rad = np.arccos(cos_theta)\n",
    "angulo_deg = np.degrees(angulo_rad)\n",
    "\n",
    "print(f\"El vector {u}, tiene una magnitud de {magnitud_u}\")\n",
    "print(f\"El vector {v}, tiene una magnitud de {magnitud_v}\")\n",
    "print(f\"El producto entre los dos vectores es de: {producto}\")\n",
    "print(f\"El angulo entre los dos vectores es de: {angulo_deg}\")"
   ]
  },
  {
   "cell_type": "markdown",
   "id": "6214d714",
   "metadata": {},
   "source": [
    "**Derivadas:**  \n",
    "f(x) = x**4 - 3*x**3 + 2*x - 5  \n",
    "\n",
    "1. Calcula f'(x) y f''(x).  \n",
    "2. Evalúa en x = 2 y comenta la concavidad.\n",
    "\"\"\""
   ]
  },
  {
   "cell_type": "code",
   "execution_count": 27,
   "id": "4b6ba26b",
   "metadata": {},
   "outputs": [
    {
     "name": "stdout",
     "output_type": "stream",
     "text": [
      "La derivada de la función x**4 - 3*x**3 + 2*x - 5 es: 4*x**3 - 9*x**2 + 2.\n",
      "La derivada de la función x**4 - 3*x**3 + 2*x - 5 es: 6*x*(2*x - 3).\n",
      "Cóncava hacia arriba (mínimo local o convexa).\n"
     ]
    }
   ],
   "source": [
    "import sympy as sp \n",
    "\n",
    "x = sp.Symbol(\"x\")\n",
    "\n",
    "f = x**4 - 3*x**3 + 2*x -5\n",
    "\n",
    "df_dx = sp.diff(f, x)\n",
    "d2f_d2x = sp.diff(f, x,2)\n",
    "\n",
    "f_subs = f.subs(x, 2)\n",
    "f2_subs = d2f_d2x.subs(x, 2)\n",
    "\n",
    "\n",
    "print(f\"La derivada de la función {f} es: {df_dx}.\")\n",
    "print(f\"La derivada de la función {f} es: {d2f_d2x}.\")\n",
    "\n",
    "if f2_subs > 0:\n",
    "    print(\"Cóncava hacia arriba (mínimo local o convexa).\")\n",
    "elif f2_subs < 0:\n",
    "    print(\"Cóncava hacia abajo (máximo local o cóncava).\")\n",
    "else:\n",
    "    print(\"Punto de inflexión.\")\n"
   ]
  }
 ],
 "metadata": {
  "kernelspec": {
   "display_name": "Python 3",
   "language": "python",
   "name": "python3"
  },
  "language_info": {
   "codemirror_mode": {
    "name": "ipython",
    "version": 3
   },
   "file_extension": ".py",
   "mimetype": "text/x-python",
   "name": "python",
   "nbconvert_exporter": "python",
   "pygments_lexer": "ipython3",
   "version": "3.10.11"
  }
 },
 "nbformat": 4,
 "nbformat_minor": 5
}
