{
  "nbformat": 4,
  "nbformat_minor": 0,
  "metadata": {
    "colab": {
      "provenance": []
    },
    "kernelspec": {
      "name": "python3",
      "display_name": "Python 3"
    },
    "language_info": {
      "name": "python"
    }
  },
  "cells": [
    {
      "cell_type": "markdown",
      "source": [
        "\"\"\"\n",
        "# Práctica de Python – Ejercicios Combinados\n",
        "\n",
        "📌 Instrucciones generales:\n",
        "\n",
        "1. Cada estudiante debe elegir **uno** de los siguientes cinco ejercicios para resolver.  \n",
        "2. No más de **11 estudiantes por ejercicio**.  \n",
        "3. Deben escribir su **nombre completo** en la sección indicada debajo del ejercicio elegido.  \n",
        "4. Todos los ejercicios se resuelven usando Python (NumPy y SymPy).  \n",
        "5. Cada ejercicio incluye:\n",
        "   - Operaciones con matrices\n",
        "   - Operaciones con vectores\n",
        "   - Derivadas (normales, parciales, de funciones compuestas o sigmoide)\n",
        "\"\"\"\n",
        "# ----------------------------------------------------------\n",
        "# EJERCICIO 5\n",
        "# ----------------------------------------------------------\n",
        "\"\"\"\n",
        "## Ejercicio 5\n",
        "\n",
        "**Matrices:**  \n",
        "A = [[1, 1], [2, 3]]  \n",
        "B = [[0, 2], [1, 1]]  \n",
        "\n",
        "1. Calcula A + B, A - B y A × B.  \n",
        "2. Calcula la traspuesta de A y la inversa de B (si existe).\n",
        "\n",
        "**Vectores:**  \n",
        "u = [2, 3]  \n",
        "v = [1, -1]  \n",
        "\n",
        "1. Calcula el producto interno u·v y determina ortogonalidad.  \n",
        "2. Calcula magnitudes y ángulo entre u y v.\n",
        "\n",
        "**Derivadas:**  \n",
        "σ(x) = 1 / (1 + exp(-x))  # Función sigmoide  \n",
        "\n",
        "1. Calcula σ'(x) simbólicamente y simplifícala.  \n",
        "2. Evalúa σ'(0) y σ'(1) y explica su interpretación.\n",
        "\"\"\"\n",
        "\n",
        "# Nombre del estudiante:\n",
        "# Nombre: Patricio Quishpe\n"
      ],
      "metadata": {
        "id": "mfwH7YTWgee7"
      }
    },
    {
      "cell_type": "code",
      "source": [
        "import numpy as np\n",
        "import sympy as sp"
      ],
      "metadata": {
        "id": "byVzXxYG-L28"
      },
      "execution_count": 3,
      "outputs": []
    },
    {
      "cell_type": "code",
      "source": [
        "A = np.array([[1, 1],\n",
        "              [2, 3]])\n",
        "\n",
        "B = np.array([[0, 2],\n",
        "              [1, 1]])\n",
        "\n",
        "# Operaciones básicas\n",
        "suma = A + B\n",
        "resta = A - B\n",
        "producto = A @ B\n",
        "\n",
        "# Traspuesta e inversa\n",
        "traspuesta_A = A.T\n",
        "\n",
        "# Verificar si B es invertible\n",
        "det_B = np.linalg.det(B)\n",
        "if det_B != 0:\n",
        "    inversa_B = np.linalg.inv(B)\n",
        "else:\n",
        "    inversa_B = \"No existe (determinante = 0)\"\n",
        "\n",
        "print(\"=== MATRICES ===\")\n",
        "print(\"A + B =\\n\", suma)\n",
        "print(\"A - B =\\n\", resta)\n",
        "print(\"A × B =\\n\", producto)\n",
        "print(\"Traspuesta de A =\\n\", traspuesta_A)\n",
        "print(\"Determinante de B =\", det_B)\n",
        "print(\"Inversa de B =\\n\", inversa_B)"
      ],
      "metadata": {
        "colab": {
          "base_uri": "https://localhost:8080/"
        },
        "id": "L8d1_aA9-MRT",
        "outputId": "723f1535-f258-4d04-f397-c6e222a5fd3d"
      },
      "execution_count": 4,
      "outputs": [
        {
          "output_type": "stream",
          "name": "stdout",
          "text": [
            "=== MATRICES ===\n",
            "A + B =\n",
            " [[1 3]\n",
            " [3 4]]\n",
            "A - B =\n",
            " [[ 1 -1]\n",
            " [ 1  2]]\n",
            "A × B =\n",
            " [[1 3]\n",
            " [3 7]]\n",
            "Traspuesta de A =\n",
            " [[1 2]\n",
            " [1 3]]\n",
            "Determinante de B = -2.0\n",
            "Inversa de B =\n",
            " [[-0.5  1. ]\n",
            " [ 0.5  0. ]]\n"
          ]
        }
      ]
    },
    {
      "cell_type": "code",
      "source": [
        "u = np.array([2, 3])\n",
        "v = np.array([1, -1])\n",
        "\n",
        "# Producto interno\n",
        "producto_interno = np.dot(u, v)\n",
        "\n",
        "# Determinar ortogonalidad\n",
        "if producto_interno == 0:\n",
        "    ortogonal = \"Sí, son ortogonales\"\n",
        "else:\n",
        "    ortogonal = \"No, no son ortogonales\"\n",
        "\n",
        "# Magnitudes (normas)\n",
        "magnitud_u = np.linalg.norm(u)\n",
        "magnitud_v = np.linalg.norm(v)\n",
        "\n",
        "# Ángulo entre u y v\n",
        "cos_theta = producto_interno / (magnitud_u * magnitud_v)\n",
        "angulo = np.degrees(np.arccos(cos_theta))\n",
        "\n",
        "print(\"\\n=== VECTORES ===\")\n",
        "print(\"u · v =\", producto_interno)\n",
        "print(\"¿Son ortogonales?\", ortogonal)\n",
        "print(\"|u| =\", round(magnitud_u, 3))\n",
        "print(\"|v| =\", round(magnitud_v, 3))\n",
        "print(\"Ángulo entre u y v =\", round(angulo, 2), \"grados\")"
      ],
      "metadata": {
        "colab": {
          "base_uri": "https://localhost:8080/"
        },
        "id": "kcOJWo-9-UJ8",
        "outputId": "e317ef7f-5397-48ca-8706-30f8f8d5f6bb"
      },
      "execution_count": 5,
      "outputs": [
        {
          "output_type": "stream",
          "name": "stdout",
          "text": [
            "\n",
            "=== VECTORES ===\n",
            "u · v = -1\n",
            "¿Son ortogonales? No, no son ortogonales\n",
            "|u| = 3.606\n",
            "|v| = 1.414\n",
            "Ángulo entre u y v = 101.31 grados\n"
          ]
        }
      ]
    },
    {
      "cell_type": "code",
      "metadata": {
        "colab": {
          "base_uri": "https://localhost:8080/"
        },
        "id": "0fc8bac5",
        "outputId": "06b7e5ca-910a-4479-e1ef-d534740c92cb"
      },
      "source": [
        "x = sp.Symbol('x', real=True)\n",
        "sigma = 1 / (1 + sp.exp(-x))  # Función sigmoide\n",
        "\n",
        "# Derivada simbólica y simplificación\n",
        "sigma_derivada = sp.diff(sigma, x)\n",
        "sigma_derivada_simplificada = sp.simplify(sigma_derivada)\n",
        "\n",
        "# Evaluación en puntos específicos\n",
        "sigma_derivada_0 = sigma_derivada_simplificada.subs(x, 0)\n",
        "sigma_derivada_1 = sigma_derivada_simplificada.subs(x, 1)\n",
        "\n",
        "print(\"\\n=== DERIVADAS ===\")\n",
        "print(\"σ(x) = 1 / (1 + e^(-x))\")\n",
        "print(\"σ'(x) =\", sigma_derivada_simplificada)\n",
        "print(\"σ'(0) =\", float(sigma_derivada_0))\n",
        "print(\"σ'(1) =\", float(sigma_derivada_1))\n",
        "\n",
        "# Interpretación:\n",
        "print(\"\\nInterpretación:\")\n",
        "print(\"La derivada σ'(x) = σ(x) * (1 - σ(x)) muestra la tasa de cambio de la sigmoide.\")\n",
        "print(\"En x = 0, la pendiente es máxima (~0.25), indicando alta sensibilidad.\")\n",
        "print(\"En x = 1, la pendiente disminuye (~0.196), mostrando saturación progresiva.\")\n"
      ],
      "execution_count": 6,
      "outputs": [
        {
          "output_type": "stream",
          "name": "stdout",
          "text": [
            "\n",
            "=== DERIVADAS ===\n",
            "σ(x) = 1 / (1 + e^(-x))\n",
            "σ'(x) = 1/(4*cosh(x/2)**2)\n",
            "σ'(0) = 0.25\n",
            "σ'(1) = 0.19661193324148185\n",
            "\n",
            "Interpretación:\n",
            "La derivada σ'(x) = σ(x) * (1 - σ(x)) muestra la tasa de cambio de la sigmoide.\n",
            "En x = 0, la pendiente es máxima (~0.25), indicando alta sensibilidad.\n",
            "En x = 1, la pendiente disminuye (~0.196), mostrando saturación progresiva.\n"
          ]
        }
      ]
    },
    {
      "cell_type": "code",
      "source": [],
      "metadata": {
        "id": "pJawBJw_3s8H"
      },
      "execution_count": null,
      "outputs": []
    }
  ]
}