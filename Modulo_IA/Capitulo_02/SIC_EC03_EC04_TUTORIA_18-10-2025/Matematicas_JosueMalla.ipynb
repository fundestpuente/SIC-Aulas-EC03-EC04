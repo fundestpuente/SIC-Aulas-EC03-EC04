{
 "cells": [
  {
   "cell_type": "code",
   "execution_count": null,
   "id": "60b5444d",
   "metadata": {
    "vscode": {
     "languageId": "plaintext"
    }
   },
   "outputs": [],
   "source": [
    "import numpy as np\n",
    "from sympy import symbols, sin, cos, diff, pi\n",
    "\n",
    "A = np.array([[1, 0, 2],\n",
    "              [2, 1, 1],\n",
    "              [3, 2, 0]])\n",
    "\n",
    "B = np.array([[0, 1, 1],\n",
    "              [1, 2, 0],\n",
    "              [2, 1, 3]])\n",
    "\n",
    "AB = np.dot(A, B)\n",
    "print(\"A×B =\", AB)\n",
    "\n",
    "A_T = A.T\n",
    "det_A = np.linalg.det(A)\n",
    "print(\"A^T =\", A_T)\n",
    "print(\"Determinante de A =\", det_A)\n",
    "\n",
    "u = np.array([2, -1, 3])\n",
    "v = np.array([1, 4, -2])\n",
    "\n",
    "dot_uv = np.dot(u, v)\n",
    "print(\"Producto interno u·v =\", dot_uv)\n",
    "if dot_uv == 0:\n",
    "    print(\"Los vectores son ortogonales\")\n",
    "else:\n",
    "    print(\"Los vectores NO son ortogonales\")\n",
    "\n",
    "norm_u = np.linalg.norm(u)\n",
    "norm_v = np.linalg.norm(v)\n",
    "cos_theta = dot_uv / (norm_u * norm_v)\n",
    "theta_rad = np.arccos(cos_theta)\n",
    "theta_deg = np.degrees(theta_rad)\n",
    "print(\"\")\n",
    "print(f\"Angulo entre u y v = {theta_rad:.4f} rad = {theta_deg:.2f}°\")\n",
    "\n",
    "x, y = symbols('x y')\n",
    "g =+ x**2 * y + sin(x*y)\n",
    "\n",
    "dg_dx = diff(g, x)\n",
    "dg_dy = diff(g, y)\n",
    "print(\"\")\n",
    "print(\"∂g/∂x =\", dg_dx)\n",
    "print(\"∂g/∂y =\", dg_dy)\n",
    "\n",
    "dg_dx_val = dg_dx.subs({x: 1, y: pi/2})\n",
    "dg_dy_val = dg_dy.subs({x: 1, y: pi/2})\n",
    "print(\"\")\n",
    "print(\"Evaluacion (1, π/2):\")\n",
    "print(\"∂g/∂x =\", dg_dx_val)\n",
    "print(\"∂g/∂y =\", dg_dy_val)"
   ]
  }
 ],
 "metadata": {
  "language_info": {
   "name": "python"
  }
 },
 "nbformat": 4,
 "nbformat_minor": 5
}
