{
  "nbformat": 4,
  "nbformat_minor": 0,
  "metadata": {
    "colab": {
      "provenance": []
    },
    "kernelspec": {
      "name": "python3",
      "display_name": "Python 3"
    },
    "language_info": {
      "name": "python"
    }
  },
  "cells": [
    {
      "cell_type": "markdown",
      "source": [
        "# ----------------------------------------------------------\n",
        "# EJERCICIO 3\n",
        "\n",
        "\"\"\"\n",
        "## Ejercicio 3\n",
        "\n",
        "**Matrices:**  \n",
        "A = [[2, 1], [0, 3]]  \n",
        "B = [[1, 2], [3, 0]]  \n",
        "\n",
        "1. Calcula A + B y A × B.  \n",
        "2. Calcula la inversa de A y el determinante de B.\n",
        "\n",
        "**Vectores:**  \n",
        "u = [1, 3]  \n",
        "v = [-1, 2]  \n",
        "\n",
        "1. Calcula el producto interno u·v.  \n",
        "2. Calcula la magnitud de cada vector.\n",
        "\n",
        "**Derivadas:**  \n",
        "h(x) = sin(2*x**2 + 3*x)  \n",
        "\n",
        "1. Calcula la derivada h'(x) usando regla de la cadena.  \n",
        "2. Evalúa h'(1) y h'(0).\n",
        "\"\"\"\n",
        "\n",
        "# Nombre del estudiante:Joseph Granja\n",
        "\n",
        "\n",
        "# ----------------------------------------------------------\n"
      ],
      "metadata": {
        "id": "34Mf7r558654"
      }
    },
    {
      "cell_type": "code",
      "source": [
        "import numpy as np\n",
        "\n",
        "A=np.array([[2, 1],[0, 3]])\n",
        "B= np.array([[1, 2], [3, 0]])\n",
        "\n",
        "print(\"A+B\")\n",
        "print(A+B)\n",
        "print(\"A*B\")\n",
        "print(A@B)"
      ],
      "metadata": {
        "colab": {
          "base_uri": "https://localhost:8080/"
        },
        "id": "kzLCarzP9Bmd",
        "outputId": "6a45e69f-10fe-46d1-9638-df487f22be65"
      },
      "execution_count": 7,
      "outputs": [
        {
          "output_type": "stream",
          "name": "stdout",
          "text": [
            "A+B\n",
            "[[3 3]\n",
            " [3 3]]\n",
            "A*B\n",
            "[[5 4]\n",
            " [9 0]]\n"
          ]
        }
      ]
    },
    {
      "cell_type": "code",
      "source": [
        "u = [1, 3]\n",
        "v = [-1, 2]\n",
        "\n",
        "u_np = np.array(u)\n",
        "v_np = np.array(v)\n",
        "\n",
        "print(\"u·v\")\n",
        "print(u_np @ v_np) # Use @ operator on NumPy arrays\n",
        "print(\"magnitud de u\")\n",
        "print(np.linalg.norm(u_np))\n",
        "print(\"magnitud de v\")\n",
        "print(np.linalg.norm(v_np))"
      ],
      "metadata": {
        "colab": {
          "base_uri": "https://localhost:8080/"
        },
        "id": "92wa606Y-bdG",
        "outputId": "636b3ee3-3e5c-4baf-de4e-89a49a3ab84e"
      },
      "execution_count": 10,
      "outputs": [
        {
          "output_type": "stream",
          "name": "stdout",
          "text": [
            "u·v\n",
            "5\n",
            "magnitud de u\n",
            "3.1622776601683795\n",
            "magnitud de v\n",
            "2.23606797749979\n"
          ]
        }
      ]
    },
    {
      "cell_type": "code",
      "source": [
        "import sympy as sp\n",
        "\n",
        "x = sp.Symbol('x')\n",
        "h = sp.sin(2*x**2 + 3*x)\n",
        "\n",
        "# sympy deeriva por regla de la cadena\n",
        "h_deriv = sp.diff(h, x)\n",
        "\n",
        "print(\"h'(x) =\", h_deriv)\n",
        "\n",
        "# Evaluar en x = 1 y x = 0\n",
        "h1 = h_deriv.subs(x, 1)\n",
        "h0 = h_deriv.subs(x, 0)\n",
        "\n",
        "print(\"h'(1) =\", float(h1))\n",
        "print(\"h'(0) =\", float(h0))\n"
      ],
      "metadata": {
        "colab": {
          "base_uri": "https://localhost:8080/"
        },
        "id": "YKtu-MHm_g7F",
        "outputId": "42b0c014-46bd-4d8a-916e-fb2cb9ff896e"
      },
      "execution_count": 11,
      "outputs": [
        {
          "output_type": "stream",
          "name": "stdout",
          "text": [
            "h'(x) = (4*x + 3)*cos(2*x**2 + 3*x)\n",
            "h'(1) = 1.9856352982425838\n",
            "h'(0) = 3.0\n"
          ]
        }
      ]
    }
  ]
}